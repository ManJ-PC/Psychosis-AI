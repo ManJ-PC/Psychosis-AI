{
  "nbformat": 4,
  "nbformat_minor": 0,
  "metadata": {
    "colab": {
      "name": "AniversárioW.ipynb",
      "provenance": [],
      "authorship_tag": "ABX9TyP8kUC3F6WQcK1cY6EU4Q5i",
      "include_colab_link": true
    },
    "kernelspec": {
      "name": "python3",
      "display_name": "Python 3"
    },
    "language_info": {
      "name": "python"
    }
  },
  "cells": [
    {
      "cell_type": "markdown",
      "metadata": {
        "id": "view-in-github",
        "colab_type": "text"
      },
      "source": [
        "<a href=\"https://colab.research.google.com/github/ManJ-PC/Psychosis-AI/blob/master/Anivers%C3%A1rioW.ipynb\" target=\"_parent\"><img src=\"https://colab.research.google.com/assets/colab-badge.svg\" alt=\"Open In Colab\"/></a>"
      ]
    },
    {
      "cell_type": "code",
      "metadata": {
        "id": "9wcwXR_Vz_ZJ"
      },
      "source": [
        "x = 0"
      ],
      "execution_count": 14,
      "outputs": []
    },
    {
      "cell_type": "code",
      "metadata": {
        "colab": {
          "base_uri": "https://localhost:8080/"
        },
        "id": "KpQ0t-s_1BqD",
        "outputId": "b592a351-4611-42fa-8458-120ac44bc0b2"
      },
      "source": [
        "print(x)"
      ],
      "execution_count": 15,
      "outputs": [
        {
          "output_type": "stream",
          "name": "stdout",
          "text": [
            "0\n"
          ]
        }
      ]
    },
    {
      "cell_type": "markdown",
      "metadata": {
        "id": "7WRvru8f2Wsk"
      },
      "source": [
        "Isto é um teste!"
      ]
    },
    {
      "cell_type": "code",
      "metadata": {
        "id": "vQpH1hIh1juv"
      },
      "source": [
        "x = 123"
      ],
      "execution_count": 16,
      "outputs": []
    },
    {
      "cell_type": "code",
      "metadata": {
        "id": "9m705pOt1mP-"
      },
      "source": [
        ""
      ],
      "execution_count": 16,
      "outputs": []
    },
    {
      "cell_type": "code",
      "metadata": {
        "id": "11dFb1Ix3M_O"
      },
      "source": [
        "import sys\n",
        "import socks\n",
        "import pandas as pd\n",
        "import numpy as np\n",
        "import matplotlib.pyplot as plt\n",
        "import sklearn.model_selection as KFold\n",
        "import seaborn as sns\n",
        "from sklearn.metrics import f1_score\n",
        "from sklearn.metrics import matthews_corrcoef\n",
        "from IPython.display import display\n",
        "from matplotlib.pyplot import figure\n",
        "from sklearn.preprocessing import StandardScaler\n",
        "from sklearn.model_selection import train_test_split\n",
        "from sklearn.metrics import classification_report,confusion_matrix\n",
        "from sklearn.metrics import accuracy_score\n",
        "from sklearn.model_selection import cross_val_score\n",
        "from sklearn.model_selection import GridSearchCV \n",
        "from sklearn.naive_bayes import GaussianNB\n",
        "from sklearn.neighbors import KNeighborsClassifier\n",
        "from sklearn.tree import DecisionTreeClassifier\n",
        "from sklearn.ensemble import RandomForestClassifier\n",
        "from keras.models import Sequential\n",
        "from keras.layers import Dense, Dropout\n",
        "from keras.wrappers.scikit_learn import KerasClassifier\n",
        "from sklearn.metrics import roc_curve, roc_auc_score\n",
        "from sklearn.datasets import make_regression\n",
        "from sklearn.linear_model import LinearRegression\n",
        "from sklearn.metrics import mean_squared_error\n",
        "from sklearn import datasets # buscar datasets\n",
        "from sklearn.svm import SVC\n",
        "from sklearn.model_selection import train_test_split"
      ],
      "execution_count": 17,
      "outputs": []
    },
    {
      "cell_type": "code",
      "metadata": {
        "colab": {
          "base_uri": "https://localhost:8080/"
        },
        "id": "BuogCAw3IpH_",
        "outputId": "ea0e5061-b397-424b-dc73-70953a6027ed"
      },
      "source": [
        "# Load a simple toy dataset, bibliotecas com um dataset já pré feitos, este é do cancro da mama\n",
        "data = datasets.load_breast_cancer() #load do dataset\n",
        "\n",
        "X = data.data # 30 caracteristicas este dataset\n",
        "y = data.target \n",
        "\n",
        "# uma linha de X bate certo com uma linha de y ... and so on\n",
        "print(X[0])\n",
        "print(y[0])\n",
        "print(data.target_names[y[0]]) # mostra o valor das 30 características\n",
        "#\n",
        "lista_benigno = [exemplo for exemplo in range(len(y)) if y[exemplo] == 1] # listas por comprensão , filtrar a lista lendo a própria lista (Matrioska effect)\n",
        "print(lista_benigno)\n",
        "x_benigno = X[lista_benigno]\n",
        "y_benigno = y[lista_benigno]\n",
        "print(len(x_benigno))\n",
        "#\n",
        "lista_maligno = [exemplo for exemplo in range(len(y)) if y[exemplo] == 0] # operações matriciais, o python poupa muito código ...\n",
        "print(lista_maligno) # muito python simples e que podemos retirar dos arrays e nomes das features .. etc\n",
        "x_maligno = X[lista_maligno]\n",
        "y_maligno = y[lista_maligno]\n",
        "print(len(x_maligno)) \n",
        "print(len(X))\n"
      ],
      "execution_count": 18,
      "outputs": [
        {
          "output_type": "stream",
          "name": "stdout",
          "text": [
            "[1.799e+01 1.038e+01 1.228e+02 1.001e+03 1.184e-01 2.776e-01 3.001e-01\n",
            " 1.471e-01 2.419e-01 7.871e-02 1.095e+00 9.053e-01 8.589e+00 1.534e+02\n",
            " 6.399e-03 4.904e-02 5.373e-02 1.587e-02 3.003e-02 6.193e-03 2.538e+01\n",
            " 1.733e+01 1.846e+02 2.019e+03 1.622e-01 6.656e-01 7.119e-01 2.654e-01\n",
            " 4.601e-01 1.189e-01]\n",
            "0\n",
            "malignant\n",
            "[19, 20, 21, 37, 46, 48, 49, 50, 51, 52, 55, 58, 59, 60, 61, 63, 66, 67, 68, 69, 71, 74, 76, 79, 80, 81, 84, 88, 89, 90, 92, 93, 96, 97, 98, 101, 102, 103, 104, 106, 107, 109, 110, 111, 112, 113, 114, 115, 116, 120, 123, 124, 125, 128, 130, 133, 136, 137, 139, 140, 142, 143, 144, 145, 147, 148, 149, 150, 151, 152, 153, 154, 155, 157, 158, 159, 160, 163, 165, 166, 169, 170, 173, 174, 175, 176, 178, 179, 183, 185, 187, 188, 189, 191, 192, 195, 200, 204, 206, 208, 209, 211, 216, 217, 220, 221, 222, 224, 225, 226, 227, 228, 231, 232, 234, 235, 238, 240, 241, 242, 243, 245, 246, 247, 248, 249, 251, 266, 267, 268, 269, 270, 271, 273, 275, 276, 278, 279, 281, 284, 285, 286, 287, 288, 289, 290, 291, 292, 293, 294, 295, 296, 298, 299, 301, 303, 304, 305, 306, 307, 308, 309, 310, 311, 312, 313, 314, 315, 316, 318, 319, 320, 322, 324, 325, 326, 327, 331, 332, 333, 334, 336, 338, 340, 341, 342, 344, 345, 346, 347, 348, 349, 350, 354, 355, 356, 357, 358, 359, 360, 361, 362, 363, 364, 367, 371, 374, 375, 376, 377, 378, 380, 381, 382, 383, 384, 386, 387, 388, 390, 391, 394, 395, 396, 397, 398, 399, 401, 402, 403, 404, 405, 406, 407, 409, 410, 411, 412, 413, 415, 416, 418, 419, 420, 421, 422, 423, 424, 425, 426, 427, 428, 429, 431, 434, 436, 437, 438, 439, 440, 442, 443, 445, 447, 448, 450, 452, 453, 454, 455, 456, 457, 458, 459, 462, 463, 464, 465, 466, 467, 469, 470, 471, 472, 473, 474, 475, 476, 477, 478, 480, 481, 482, 483, 484, 485, 486, 488, 490, 491, 493, 494, 495, 496, 497, 500, 502, 504, 505, 506, 507, 508, 510, 511, 513, 515, 518, 519, 520, 522, 523, 524, 525, 526, 527, 528, 529, 530, 531, 532, 534, 537, 538, 539, 540, 541, 542, 543, 544, 545, 546, 547, 548, 549, 550, 551, 552, 553, 554, 555, 556, 557, 558, 559, 560, 561, 568]\n",
            "357\n",
            "[0, 1, 2, 3, 4, 5, 6, 7, 8, 9, 10, 11, 12, 13, 14, 15, 16, 17, 18, 22, 23, 24, 25, 26, 27, 28, 29, 30, 31, 32, 33, 34, 35, 36, 38, 39, 40, 41, 42, 43, 44, 45, 47, 53, 54, 56, 57, 62, 64, 65, 70, 72, 73, 75, 77, 78, 82, 83, 85, 86, 87, 91, 94, 95, 99, 100, 105, 108, 117, 118, 119, 121, 122, 126, 127, 129, 131, 132, 134, 135, 138, 141, 146, 156, 161, 162, 164, 167, 168, 171, 172, 177, 180, 181, 182, 184, 186, 190, 193, 194, 196, 197, 198, 199, 201, 202, 203, 205, 207, 210, 212, 213, 214, 215, 218, 219, 223, 229, 230, 233, 236, 237, 239, 244, 250, 252, 253, 254, 255, 256, 257, 258, 259, 260, 261, 262, 263, 264, 265, 272, 274, 277, 280, 282, 283, 297, 300, 302, 317, 321, 323, 328, 329, 330, 335, 337, 339, 343, 351, 352, 353, 365, 366, 368, 369, 370, 372, 373, 379, 385, 389, 392, 393, 400, 408, 414, 417, 430, 432, 433, 435, 441, 444, 446, 449, 451, 460, 461, 468, 479, 487, 489, 492, 498, 499, 501, 503, 509, 512, 514, 516, 517, 521, 533, 535, 536, 562, 563, 564, 565, 566, 567]\n",
            "212\n",
            "569\n"
          ]
        }
      ]
    },
    {
      "cell_type": "code",
      "metadata": {
        "colab": {
          "base_uri": "https://localhost:8080/"
        },
        "id": "oGxE918HxBBL",
        "outputId": "4112f40c-61d0-4807-d09d-70e1f622de31"
      },
      "source": [
        "lista_benigno"
      ],
      "execution_count": 19,
      "outputs": [
        {
          "output_type": "execute_result",
          "data": {
            "text/plain": [
              "[19,\n",
              " 20,\n",
              " 21,\n",
              " 37,\n",
              " 46,\n",
              " 48,\n",
              " 49,\n",
              " 50,\n",
              " 51,\n",
              " 52,\n",
              " 55,\n",
              " 58,\n",
              " 59,\n",
              " 60,\n",
              " 61,\n",
              " 63,\n",
              " 66,\n",
              " 67,\n",
              " 68,\n",
              " 69,\n",
              " 71,\n",
              " 74,\n",
              " 76,\n",
              " 79,\n",
              " 80,\n",
              " 81,\n",
              " 84,\n",
              " 88,\n",
              " 89,\n",
              " 90,\n",
              " 92,\n",
              " 93,\n",
              " 96,\n",
              " 97,\n",
              " 98,\n",
              " 101,\n",
              " 102,\n",
              " 103,\n",
              " 104,\n",
              " 106,\n",
              " 107,\n",
              " 109,\n",
              " 110,\n",
              " 111,\n",
              " 112,\n",
              " 113,\n",
              " 114,\n",
              " 115,\n",
              " 116,\n",
              " 120,\n",
              " 123,\n",
              " 124,\n",
              " 125,\n",
              " 128,\n",
              " 130,\n",
              " 133,\n",
              " 136,\n",
              " 137,\n",
              " 139,\n",
              " 140,\n",
              " 142,\n",
              " 143,\n",
              " 144,\n",
              " 145,\n",
              " 147,\n",
              " 148,\n",
              " 149,\n",
              " 150,\n",
              " 151,\n",
              " 152,\n",
              " 153,\n",
              " 154,\n",
              " 155,\n",
              " 157,\n",
              " 158,\n",
              " 159,\n",
              " 160,\n",
              " 163,\n",
              " 165,\n",
              " 166,\n",
              " 169,\n",
              " 170,\n",
              " 173,\n",
              " 174,\n",
              " 175,\n",
              " 176,\n",
              " 178,\n",
              " 179,\n",
              " 183,\n",
              " 185,\n",
              " 187,\n",
              " 188,\n",
              " 189,\n",
              " 191,\n",
              " 192,\n",
              " 195,\n",
              " 200,\n",
              " 204,\n",
              " 206,\n",
              " 208,\n",
              " 209,\n",
              " 211,\n",
              " 216,\n",
              " 217,\n",
              " 220,\n",
              " 221,\n",
              " 222,\n",
              " 224,\n",
              " 225,\n",
              " 226,\n",
              " 227,\n",
              " 228,\n",
              " 231,\n",
              " 232,\n",
              " 234,\n",
              " 235,\n",
              " 238,\n",
              " 240,\n",
              " 241,\n",
              " 242,\n",
              " 243,\n",
              " 245,\n",
              " 246,\n",
              " 247,\n",
              " 248,\n",
              " 249,\n",
              " 251,\n",
              " 266,\n",
              " 267,\n",
              " 268,\n",
              " 269,\n",
              " 270,\n",
              " 271,\n",
              " 273,\n",
              " 275,\n",
              " 276,\n",
              " 278,\n",
              " 279,\n",
              " 281,\n",
              " 284,\n",
              " 285,\n",
              " 286,\n",
              " 287,\n",
              " 288,\n",
              " 289,\n",
              " 290,\n",
              " 291,\n",
              " 292,\n",
              " 293,\n",
              " 294,\n",
              " 295,\n",
              " 296,\n",
              " 298,\n",
              " 299,\n",
              " 301,\n",
              " 303,\n",
              " 304,\n",
              " 305,\n",
              " 306,\n",
              " 307,\n",
              " 308,\n",
              " 309,\n",
              " 310,\n",
              " 311,\n",
              " 312,\n",
              " 313,\n",
              " 314,\n",
              " 315,\n",
              " 316,\n",
              " 318,\n",
              " 319,\n",
              " 320,\n",
              " 322,\n",
              " 324,\n",
              " 325,\n",
              " 326,\n",
              " 327,\n",
              " 331,\n",
              " 332,\n",
              " 333,\n",
              " 334,\n",
              " 336,\n",
              " 338,\n",
              " 340,\n",
              " 341,\n",
              " 342,\n",
              " 344,\n",
              " 345,\n",
              " 346,\n",
              " 347,\n",
              " 348,\n",
              " 349,\n",
              " 350,\n",
              " 354,\n",
              " 355,\n",
              " 356,\n",
              " 357,\n",
              " 358,\n",
              " 359,\n",
              " 360,\n",
              " 361,\n",
              " 362,\n",
              " 363,\n",
              " 364,\n",
              " 367,\n",
              " 371,\n",
              " 374,\n",
              " 375,\n",
              " 376,\n",
              " 377,\n",
              " 378,\n",
              " 380,\n",
              " 381,\n",
              " 382,\n",
              " 383,\n",
              " 384,\n",
              " 386,\n",
              " 387,\n",
              " 388,\n",
              " 390,\n",
              " 391,\n",
              " 394,\n",
              " 395,\n",
              " 396,\n",
              " 397,\n",
              " 398,\n",
              " 399,\n",
              " 401,\n",
              " 402,\n",
              " 403,\n",
              " 404,\n",
              " 405,\n",
              " 406,\n",
              " 407,\n",
              " 409,\n",
              " 410,\n",
              " 411,\n",
              " 412,\n",
              " 413,\n",
              " 415,\n",
              " 416,\n",
              " 418,\n",
              " 419,\n",
              " 420,\n",
              " 421,\n",
              " 422,\n",
              " 423,\n",
              " 424,\n",
              " 425,\n",
              " 426,\n",
              " 427,\n",
              " 428,\n",
              " 429,\n",
              " 431,\n",
              " 434,\n",
              " 436,\n",
              " 437,\n",
              " 438,\n",
              " 439,\n",
              " 440,\n",
              " 442,\n",
              " 443,\n",
              " 445,\n",
              " 447,\n",
              " 448,\n",
              " 450,\n",
              " 452,\n",
              " 453,\n",
              " 454,\n",
              " 455,\n",
              " 456,\n",
              " 457,\n",
              " 458,\n",
              " 459,\n",
              " 462,\n",
              " 463,\n",
              " 464,\n",
              " 465,\n",
              " 466,\n",
              " 467,\n",
              " 469,\n",
              " 470,\n",
              " 471,\n",
              " 472,\n",
              " 473,\n",
              " 474,\n",
              " 475,\n",
              " 476,\n",
              " 477,\n",
              " 478,\n",
              " 480,\n",
              " 481,\n",
              " 482,\n",
              " 483,\n",
              " 484,\n",
              " 485,\n",
              " 486,\n",
              " 488,\n",
              " 490,\n",
              " 491,\n",
              " 493,\n",
              " 494,\n",
              " 495,\n",
              " 496,\n",
              " 497,\n",
              " 500,\n",
              " 502,\n",
              " 504,\n",
              " 505,\n",
              " 506,\n",
              " 507,\n",
              " 508,\n",
              " 510,\n",
              " 511,\n",
              " 513,\n",
              " 515,\n",
              " 518,\n",
              " 519,\n",
              " 520,\n",
              " 522,\n",
              " 523,\n",
              " 524,\n",
              " 525,\n",
              " 526,\n",
              " 527,\n",
              " 528,\n",
              " 529,\n",
              " 530,\n",
              " 531,\n",
              " 532,\n",
              " 534,\n",
              " 537,\n",
              " 538,\n",
              " 539,\n",
              " 540,\n",
              " 541,\n",
              " 542,\n",
              " 543,\n",
              " 544,\n",
              " 545,\n",
              " 546,\n",
              " 547,\n",
              " 548,\n",
              " 549,\n",
              " 550,\n",
              " 551,\n",
              " 552,\n",
              " 553,\n",
              " 554,\n",
              " 555,\n",
              " 556,\n",
              " 557,\n",
              " 558,\n",
              " 559,\n",
              " 560,\n",
              " 561,\n",
              " 568]"
            ]
          },
          "metadata": {},
          "execution_count": 19
        }
      ]
    },
    {
      "cell_type": "code",
      "metadata": {
        "colab": {
          "base_uri": "https://localhost:8080/"
        },
        "id": "2sj8wut6uN1K",
        "outputId": "82071642-8e2a-48d7-86d8-1d8e6f01602a"
      },
      "source": [
        "type(X)"
      ],
      "execution_count": 20,
      "outputs": [
        {
          "output_type": "execute_result",
          "data": {
            "text/plain": [
              "numpy.ndarray"
            ]
          },
          "metadata": {},
          "execution_count": 20
        }
      ]
    },
    {
      "cell_type": "code",
      "metadata": {
        "colab": {
          "base_uri": "https://localhost:8080/"
        },
        "id": "NTwBLainuSTM",
        "outputId": "5e45fba4-791e-4e05-d997-f97c95bd95ca"
      },
      "source": [
        "X[0]"
      ],
      "execution_count": 21,
      "outputs": [
        {
          "output_type": "execute_result",
          "data": {
            "text/plain": [
              "array([1.799e+01, 1.038e+01, 1.228e+02, 1.001e+03, 1.184e-01, 2.776e-01,\n",
              "       3.001e-01, 1.471e-01, 2.419e-01, 7.871e-02, 1.095e+00, 9.053e-01,\n",
              "       8.589e+00, 1.534e+02, 6.399e-03, 4.904e-02, 5.373e-02, 1.587e-02,\n",
              "       3.003e-02, 6.193e-03, 2.538e+01, 1.733e+01, 1.846e+02, 2.019e+03,\n",
              "       1.622e-01, 6.656e-01, 7.119e-01, 2.654e-01, 4.601e-01, 1.189e-01])"
            ]
          },
          "metadata": {},
          "execution_count": 21
        }
      ]
    },
    {
      "cell_type": "code",
      "metadata": {
        "colab": {
          "base_uri": "https://localhost:8080/"
        },
        "id": "I1pumuRHMu59",
        "outputId": "7bbce4bd-bd51-406e-bde0-ab77d37b84cd"
      },
      "source": [
        "print(data.feature_names)\n",
        "print(data.target_names)\n",
        "print(X.shape)\n",
        "print(y.shape) # é a 31ª coluna deste conj. de dados    "
      ],
      "execution_count": 22,
      "outputs": [
        {
          "output_type": "stream",
          "name": "stdout",
          "text": [
            "['mean radius' 'mean texture' 'mean perimeter' 'mean area'\n",
            " 'mean smoothness' 'mean compactness' 'mean concavity'\n",
            " 'mean concave points' 'mean symmetry' 'mean fractal dimension'\n",
            " 'radius error' 'texture error' 'perimeter error' 'area error'\n",
            " 'smoothness error' 'compactness error' 'concavity error'\n",
            " 'concave points error' 'symmetry error' 'fractal dimension error'\n",
            " 'worst radius' 'worst texture' 'worst perimeter' 'worst area'\n",
            " 'worst smoothness' 'worst compactness' 'worst concavity'\n",
            " 'worst concave points' 'worst symmetry' 'worst fractal dimension']\n",
            "['malignant' 'benign']\n",
            "(569, 30)\n",
            "(569,)\n"
          ]
        }
      ]
    },
    {
      "cell_type": "markdown",
      "metadata": {
        "id": "-cRXEJQ8iuYL"
      },
      "source": [
        "Cria uma função que permita treinar um modelo e guardar resultados!\n"
      ]
    },
    {
      "cell_type": "code",
      "metadata": {
        "id": "PRqFbMl3if4P"
      },
      "source": [
        "def model_train_and_evaluate(a_classifier, _x_train, _y_train, _x_test, _y_test, key=\"\"):  # o que acontece com o sklearn, todos os modelos fit e predict tem.. e mudasse o tipo de classificadores aqui\n",
        "\n",
        "  a_model = a_classifier.fit(_x_train, _y_train) #dá para todos os modelos de classificador que pretenda\n",
        "# fase de treino e fit -> train , mudou nome das varíaveis para não coincidirem em memória .. é eager precisa dos dados completos para fazer o fit etc\n",
        "  yproba = a_model.predict_proba(_x_test)[::,1]  # da uma noção e confiança sobre aquela amostra\n",
        "  ypredicted = a_model.predict(_x_test)\n",
        "# lista inteira de exemplo, em que depois bate tudo certo...\n",
        "  # extract metrics  tipically y_true, y_pred # groundtrue  e y que foram previstos.., slides das métricas vai disponibilizar... , matriz de confusão\n",
        "  fpr, tpr, _ = roc_curve(_y_test, yproba) #f_measure também!\n",
        "  auc = roc_auc_score(_y_test, yproba)\n",
        "  conf_m = confusion_matrix(_y_test, ypredicted) # extraí um conj. de métricas de performance\n",
        "  mcc = matthews_corrcoef(_y_test, ypredicted)\n",
        "  f1 = f1_score(_y_test, ypredicted)\n",
        "  # we can add more..\n",
        "  result_table = pd.DataFrame(columns=['classifiers', 'fpr', 'tpr', 'auc', 'f1', 'mcc', 'confusion_matrix']) # faz datasets bem construídos e legíveis (dados e visualmente)\n",
        "  result_table = result_table.append({'classifiers':a_classifier.__class__.__name__+\"-\"+key,\n",
        "                                     'fpr':fpr,\n",
        "                                     'tpr':tpr,\n",
        "                                     'auc':auc,\n",
        "                                     'confusion_matrix': conf_m,\n",
        "                                     'mcc':mcc,\n",
        "                                     'f1': f1}, ignore_index=True)\n",
        "  return result_table #fica numa tabela em result"
      ],
      "execution_count": 23,
      "outputs": []
    },
    {
      "cell_type": "code",
      "metadata": {
        "colab": {
          "base_uri": "https://localhost:8080/"
        },
        "id": "agRcsoG9lo8p",
        "outputId": "b344bea8-934c-4b26-ed05-9819081cf063"
      },
      "source": [
        "X_train, X_test, y_train, y_test = train_test_split(X, y, test_size=.30, random_state=1234) # devolve uma lista de variáveis (decomposição) separadas por vírgulas, faz o split do dataset total\n",
        "print(X_train.shape) # rnadom_state com valor fixo para conseguirmos garantir que conseguimos replicar. \n",
        "\n",
        "\n"
      ],
      "execution_count": 24,
      "outputs": [
        {
          "output_type": "stream",
          "name": "stdout",
          "text": [
            "(398, 30)\n"
          ]
        }
      ]
    },
    {
      "cell_type": "code",
      "metadata": {
        "colab": {
          "base_uri": "https://localhost:8080/",
          "height": 80
        },
        "id": "fq2UtbV2969n",
        "outputId": "1c0d3684-1172-4ef7-f9e6-99eca713ef71"
      },
      "source": [
        "#results = model_train_and_evaluate(DecisionTreeClassifier(random_state=2020), X_train, y_train, X_test, y_test)\n",
        "results = model_train_and_evaluate(DecisionTreeClassifier(random_state=2020), X_train, y_train, X_test, y_test) # Aproveitar o classificadores que já existem\n",
        "results.head()"
      ],
      "execution_count": 25,
      "outputs": [
        {
          "output_type": "execute_result",
          "data": {
            "text/html": [
              "<div>\n",
              "<style scoped>\n",
              "    .dataframe tbody tr th:only-of-type {\n",
              "        vertical-align: middle;\n",
              "    }\n",
              "\n",
              "    .dataframe tbody tr th {\n",
              "        vertical-align: top;\n",
              "    }\n",
              "\n",
              "    .dataframe thead th {\n",
              "        text-align: right;\n",
              "    }\n",
              "</style>\n",
              "<table border=\"1\" class=\"dataframe\">\n",
              "  <thead>\n",
              "    <tr style=\"text-align: right;\">\n",
              "      <th></th>\n",
              "      <th>classifiers</th>\n",
              "      <th>fpr</th>\n",
              "      <th>tpr</th>\n",
              "      <th>auc</th>\n",
              "      <th>f1</th>\n",
              "      <th>mcc</th>\n",
              "      <th>confusion_matrix</th>\n",
              "    </tr>\n",
              "  </thead>\n",
              "  <tbody>\n",
              "    <tr>\n",
              "      <th>0</th>\n",
              "      <td>DecisionTreeClassifier-</td>\n",
              "      <td>[0.0, 0.12121212121212122, 1.0]</td>\n",
              "      <td>[0.0, 0.9333333333333333, 1.0]</td>\n",
              "      <td>0.906061</td>\n",
              "      <td>0.92891</td>\n",
              "      <td>0.814475</td>\n",
              "      <td>[[58, 8], [7, 98]]</td>\n",
              "    </tr>\n",
              "  </tbody>\n",
              "</table>\n",
              "</div>"
            ],
            "text/plain": [
              "               classifiers  ...    confusion_matrix\n",
              "0  DecisionTreeClassifier-  ...  [[58, 8], [7, 98]]\n",
              "\n",
              "[1 rows x 7 columns]"
            ]
          },
          "metadata": {},
          "execution_count": 25
        }
      ]
    },
    {
      "cell_type": "code",
      "metadata": {
        "id": "3v5XZmU40Jvp"
      },
      "source": [
        "# lista para usar e fazer mais tarde o gráfico da ROC + pontos todos de threshold, a tender muito para os positivos.VP-58 Falsos negativos 8, Falsos Negativos 7 FP - 98\n",
        "# todos os classificadores tem fit e predict \n",
        "\n",
        "# matriz de confusão    TP   FP     58    8\n",
        "#                       FN   TN      7   98\n",
        "#"
      ],
      "execution_count": 26,
      "outputs": []
    },
    {
      "cell_type": "code",
      "metadata": {
        "id": "9QLEuv7MGtjd"
      },
      "source": [
        "def plot_roc_insame(result_table):\n",
        "    result_table.set_index('classifiers', inplace=True)\n",
        "    \n",
        "    fig = plt.figure(figsize=(8,6))\n",
        "    \n",
        "    for i in result_table.index:\n",
        "        plt.plot(result_table.loc[i]['fpr'], \n",
        "                 result_table.loc[i]['tpr'], \n",
        "                 label=\"{}, AUC={:.3f}\".format(i, result_table.loc[i]['auc']))\n",
        "        \n",
        "    plt.plot([0,1], [0,1], color='black', linestyle='--') # random chance!\n",
        "    plt.xticks(np.arange(0.0, 1.1, step=0.1))\n",
        "    plt.xlabel(\"False Positive Rate\", fontsize=15)\n",
        "    plt.yticks(np.arange(0.0, 1.1, step=0.1))\n",
        "    plt.ylabel(\"True Positive Rate\", fontsize=15)\n",
        "    plt.title('ROC Curve Analysis', fontweight='bold', fontsize=15)\n",
        "    plt.legend(prop={'size':13}, loc='lower right')\n",
        "    plt.show()\n",
        "\n",
        "#plot_roc_insame(results)"
      ],
      "execution_count": 27,
      "outputs": []
    },
    {
      "cell_type": "code",
      "metadata": {
        "colab": {
          "base_uri": "https://localhost:8080/",
          "height": 71
        },
        "id": "8bL_xDPeIfXB",
        "outputId": "74d5c97b-945e-4904-b8a8-ab1ece88a994"
      },
      "source": [
        "\"\"\"classifiers = [GaussianNB(),\n",
        "               KNeighborsClassifier(n_neighbors=3),\n",
        "               DecisionTreeClassifier(random_state=2020),\n",
        "               RandomForestClassifier(random_state=2020),\n",
        "               SVC(kernel=\"linear\", C=0.025, probability=True)\n",
        "               ]\n",
        "\n",
        "result = pd.DataFrame(columns=['classifiers', 'fpr', 'tpr', 'auc', 'f1', 'mcc', 'confusion_matrix'])\n",
        "\n",
        "# train !\n",
        "for cls in classifiers:\n",
        "  results = results.append(model_train_and_evaluate(cls, X_train, y_train, X_test, y_test))\n",
        "  \n",
        "results.head()\n",
        "print(results)\n",
        "plot_roc_insame(results)\"\"\""
      ],
      "execution_count": 28,
      "outputs": [
        {
          "output_type": "execute_result",
          "data": {
            "application/vnd.google.colaboratory.intrinsic+json": {
              "type": "string"
            },
            "text/plain": [
              "'classifiers = [GaussianNB(),\\n               KNeighborsClassifier(n_neighbors=3),\\n               DecisionTreeClassifier(random_state=2020),\\n               RandomForestClassifier(random_state=2020),\\n               SVC(kernel=\"linear\", C=0.025, probability=True)\\n               ]\\n\\nresult = pd.DataFrame(columns=[\\'classifiers\\', \\'fpr\\', \\'tpr\\', \\'auc\\', \\'f1\\', \\'mcc\\', \\'confusion_matrix\\'])\\n\\n# train !\\nfor cls in classifiers:\\n  results = results.append(model_train_and_evaluate(cls, X_train, y_train, X_test, y_test))\\n  \\nresults.head()\\nprint(results)\\nplot_roc_insame(results)'"
            ]
          },
          "metadata": {},
          "execution_count": 28
        }
      ]
    },
    {
      "cell_type": "code",
      "metadata": {
        "colab": {
          "base_uri": "https://localhost:8080/",
          "height": 571
        },
        "id": "GZm0oDXnK9C5",
        "outputId": "40c27298-d39f-48d9-e8ff-4ee7a6914971"
      },
      "source": [
        "# create a set of other models\n",
        "classifiers = [GaussianNB(), \n",
        "               KNeighborsClassifier(n_neighbors=3),\n",
        "               KNeighborsClassifier(n_neighbors=5), \n",
        "               RandomForestClassifier(random_state=2020),\n",
        "               SVC(kernel=\"linear\", C=0.025, probability=True),\n",
        "               SVC(kernel=\"linear\", C=0.01, probability=True)\n",
        "              ]\n",
        "# perceber as diferenças das abordagens, segundo as mesmas condições..\n",
        "results = pd.DataFrame(columns=['classifiers', 'fpr','tpr','auc','f1', 'mcc', 'confusion_matrix'])\n",
        "import random\n",
        "# train !\n",
        "i = 0\n",
        "for cls in classifiers:\n",
        "    results = results.append(model_train_and_evaluate(cls, X_train, y_train, X_test, y_test, str(i)))\n",
        "    i+=1\n",
        "# pipeline completo de de fazer lcassificação e avaliar com as métricas, obter X de treino e feature e ir buscar as características (princípio ), camada de classificação estendida e .. métodos mais simples\n",
        "results.head()\n",
        "print(results)\n",
        "plot_roc_insame(results) "
      ],
      "execution_count": 29,
      "outputs": [
        {
          "output_type": "stream",
          "name": "stdout",
          "text": [
            "                classifiers  ...      confusion_matrix\n",
            "0              GaussianNB-0  ...  [[52, 14], [5, 100]]\n",
            "0    KNeighborsClassifier-1  ...  [[56, 10], [2, 103]]\n",
            "0    KNeighborsClassifier-2  ...   [[58, 8], [3, 102]]\n",
            "0  RandomForestClassifier-3  ...  [[56, 10], [2, 103]]\n",
            "0                     SVC-4  ...   [[57, 9], [3, 102]]\n",
            "0                     SVC-5  ...   [[58, 8], [3, 102]]\n",
            "\n",
            "[6 rows x 7 columns]\n"
          ]
        },
        {
          "output_type": "display_data",
          "data": {
            "image/png": "[encoded data removed]",
            "text/plain": [
              "<Figure size 576x432 with 1 Axes>"
            ]
          },
          "metadata": {
            "needs_background": "light"
          }
        }
      ]
    },
    {
      "cell_type": "code",
      "metadata": {
        "colab": {
          "base_uri": "https://localhost:8080/",
          "height": 265
        },
        "id": "_oNhOz2GKAki",
        "outputId": "1a782e1b-7362-4810-d3f0-02213a68b66c"
      },
      "source": [
        "results"
      ],
      "execution_count": 30,
      "outputs": [
        {
          "output_type": "execute_result",
          "data": {
            "text/html": [
              "<div>\n",
              "<style scoped>\n",
              "    .dataframe tbody tr th:only-of-type {\n",
              "        vertical-align: middle;\n",
              "    }\n",
              "\n",
              "    .dataframe tbody tr th {\n",
              "        vertical-align: top;\n",
              "    }\n",
              "\n",
              "    .dataframe thead th {\n",
              "        text-align: right;\n",
              "    }\n",
              "</style>\n",
              "<table border=\"1\" class=\"dataframe\">\n",
              "  <thead>\n",
              "    <tr style=\"text-align: right;\">\n",
              "      <th></th>\n",
              "      <th>fpr</th>\n",
              "      <th>tpr</th>\n",
              "      <th>auc</th>\n",
              "      <th>f1</th>\n",
              "      <th>mcc</th>\n",
              "      <th>confusion_matrix</th>\n",
              "    </tr>\n",
              "    <tr>\n",
              "      <th>classifiers</th>\n",
              "      <th></th>\n",
              "      <th></th>\n",
              "      <th></th>\n",
              "      <th></th>\n",
              "      <th></th>\n",
              "      <th></th>\n",
              "    </tr>\n",
              "  </thead>\n",
              "  <tbody>\n",
              "    <tr>\n",
              "      <th>GaussianNB-0</th>\n",
              "      <td>[0.0, 0.0, 0.0, 0.0, 0.0, 0.0, 0.0, 0.01515151...</td>\n",
              "      <td>[0.0, 0.3523809523809524, 0.38095238095238093,...</td>\n",
              "      <td>0.976046</td>\n",
              "      <td>0.913242</td>\n",
              "      <td>0.764471</td>\n",
              "      <td>[[52, 14], [5, 100]]</td>\n",
              "    </tr>\n",
              "    <tr>\n",
              "      <th>KNeighborsClassifier-1</th>\n",
              "      <td>[0.0, 0.06060606060606061, 0.15151515151515152...</td>\n",
              "      <td>[0.0, 0.8571428571428571, 0.9809523809523809, ...</td>\n",
              "      <td>0.952814</td>\n",
              "      <td>0.944954</td>\n",
              "      <td>0.852898</td>\n",
              "      <td>[[56, 10], [2, 103]]</td>\n",
              "    </tr>\n",
              "    <tr>\n",
              "      <th>KNeighborsClassifier-2</th>\n",
              "      <td>[0.0, 0.045454545454545456, 0.0606060606060606...</td>\n",
              "      <td>[0.0, 0.8285714285714286, 0.9333333333333333, ...</td>\n",
              "      <td>0.962266</td>\n",
              "      <td>0.948837</td>\n",
              "      <td>0.864042</td>\n",
              "      <td>[[58, 8], [3, 102]]</td>\n",
              "    </tr>\n",
              "    <tr>\n",
              "      <th>RandomForestClassifier-3</th>\n",
              "      <td>[0.0, 0.0, 0.015151515151515152, 0.01515151515...</td>\n",
              "      <td>[0.0, 0.42857142857142855, 0.6095238095238096,...</td>\n",
              "      <td>0.981313</td>\n",
              "      <td>0.944954</td>\n",
              "      <td>0.852898</td>\n",
              "      <td>[[56, 10], [2, 103]]</td>\n",
              "    </tr>\n",
              "    <tr>\n",
              "      <th>SVC-4</th>\n",
              "      <td>[0.0, 0.0, 0.0, 0.015151515151515152, 0.015151...</td>\n",
              "      <td>[0.0, 0.009523809523809525, 0.638095238095238,...</td>\n",
              "      <td>0.985426</td>\n",
              "      <td>0.944444</td>\n",
              "      <td>0.851824</td>\n",
              "      <td>[[57, 9], [3, 102]]</td>\n",
              "    </tr>\n",
              "    <tr>\n",
              "      <th>SVC-5</th>\n",
              "      <td>[0.0, 0.0, 0.0, 0.015151515151515152, 0.015151...</td>\n",
              "      <td>[0.0, 0.009523809523809525, 0.638095238095238,...</td>\n",
              "      <td>0.984993</td>\n",
              "      <td>0.948837</td>\n",
              "      <td>0.864042</td>\n",
              "      <td>[[58, 8], [3, 102]]</td>\n",
              "    </tr>\n",
              "  </tbody>\n",
              "</table>\n",
              "</div>"
            ],
            "text/plain": [
              "                                                                        fpr  ...      confusion_matrix\n",
              "classifiers                                                                  ...                      \n",
              "GaussianNB-0              [0.0, 0.0, 0.0, 0.0, 0.0, 0.0, 0.0, 0.01515151...  ...  [[52, 14], [5, 100]]\n",
              "KNeighborsClassifier-1    [0.0, 0.06060606060606061, 0.15151515151515152...  ...  [[56, 10], [2, 103]]\n",
              "KNeighborsClassifier-2    [0.0, 0.045454545454545456, 0.0606060606060606...  ...   [[58, 8], [3, 102]]\n",
              "RandomForestClassifier-3  [0.0, 0.0, 0.015151515151515152, 0.01515151515...  ...  [[56, 10], [2, 103]]\n",
              "SVC-4                     [0.0, 0.0, 0.0, 0.015151515151515152, 0.015151...  ...   [[57, 9], [3, 102]]\n",
              "SVC-5                     [0.0, 0.0, 0.0, 0.015151515151515152, 0.015151...  ...   [[58, 8], [3, 102]]\n",
              "\n",
              "[6 rows x 6 columns]"
            ]
          },
          "metadata": {},
          "execution_count": 30
        }
      ]
    },
    {
      "cell_type": "code",
      "metadata": {
        "colab": {
          "base_uri": "https://localhost:8080/",
          "height": 1000
        },
        "id": "-Gd_p-8LL865",
        "outputId": "a9232f7b-9436-49ae-f3be-1e2ce44eeaa1"
      },
      "source": [
        "#aborgadem mais deep\n",
        "\n",
        "def Deep_Model(activation = 'linear', neurons = 25, optimizer='Adam', input_size = 30): # a primeira camada o nº = ao número de inputs que estamos a usar (features?), neurónios.. colocar mais?\n",
        "  model = Sequential() # fazer tuning desta parametrização toda , mais 5 parâmetros de cada lado, e tudo isto tem influência no resultado .. etc Promenores, de que classificadores usar e depende do que queiramos \n",
        "  # fully #1       \n",
        "  model.add(Dense(neurons, input_dim=input_size, activation=activation))\n",
        "  # fully #2\n",
        "  model.add(Dense(neurons, activation= activation))\n",
        "  #droput layer\n",
        "  model.add(Dropout(0.3)) # filtro para regularizar nossa rede (apagando, parte da informação) treinar todos os seus pesos e não fixa em padrões de pesos. Rede aprende mais nada, dos padrões de peso\n",
        "  model.add(Dense(1, activation='sigmoid'))\n",
        "  model.compile(loss='binary_crossentropy', optimizer= optimizer, metrics=['accuracy'])\n",
        "  return model\n",
        "\n",
        "  # ensure the dataset!\n",
        "X_train, X_test, y_train, y_test = train_test_split(X, y, test_size=.30, random_state=1234)\n",
        "\n",
        "# create ref to keras model # época é uma passagem pelo dataset completa, viu as 500etal amostras 100 vezes #questão de tunning dos parametros...\n",
        "clf = KerasClassifier(build_fn=Deep_Model, epochs=100, batch_size=40, verbose=1) # é o que o sklearn usa para ter um modelo igual ao deles ..  etc, para ter um modelo igual aos pesos!\n",
        "\n",
        "clf.fit(X_train, y_train)\n",
        "y_pred = clf.predict(X_test)\n",
        "\n",
        "yproba = clf.predict_proba(X_test)[::,1]\n",
        "#yproba = clf.predict.proba(X_test)\n",
        "ypredicted = clf.predict(X_test)\n",
        "\n",
        "# extract metrics  tipically   y_true,  y_pred\n",
        "fpr, tpr, _ = roc_curve(y_test, yproba)\n",
        "auc = roc_auc_score(y_test, yproba)\n",
        "conf_m = confusion_matrix(y_test, y_pred)\n",
        "mcc = matthews_corrcoef(y_test, ypredicted)\n",
        "f1 = f1_score(y_test, ypredicted)\n",
        "\n",
        "result_table = pd.DataFrame(columns=['classifiers', 'fpr', 'tpr', 'auc', 'f1', 'mcc', 'confusion_matrix'])\n",
        "result_table = result_table.append({'classifiers':\"DNN\",\n",
        "                                    'fpr': fpr,\n",
        "                                    'tpr': tpr,\n",
        "                                    'auc': auc,\n",
        "                                    'confusion_matrix': conf_m,\n",
        "                                    'mcc': mcc,\n",
        "                                    'f1': f1}, ignore_index=True)\n",
        "\n",
        "print('AUC', auc)\n",
        "print(classification_report(y_test,y_pred))\n",
        "print(conf_m)\n",
        "\n",
        "# plot roc curve!\n",
        "plot_roc_insame(result_table)\n",
        "\n",
        "result_table.head()"
      ],
      "execution_count": 31,
      "outputs": [
        {
          "output_type": "stream",
          "name": "stdout",
          "text": [
            "Epoch 1/100\n",
            "10/10 [==============================] - 1s 2ms/step - loss: 106.3774 - accuracy: 0.5352\n",
            "Epoch 2/100\n",
            "10/10 [==============================] - 0s 2ms/step - loss: 78.7164 - accuracy: 0.4171\n",
            "Epoch 3/100\n",
            "10/10 [==============================] - 0s 1ms/step - loss: 61.0416 - accuracy: 0.4874\n",
            "Epoch 4/100\n",
            "10/10 [==============================] - 0s 1ms/step - loss: 42.3309 - accuracy: 0.5276\n",
            "Epoch 5/100\n",
            "10/10 [==============================] - 0s 2ms/step - loss: 37.6507 - accuracy: 0.5327\n",
            "Epoch 6/100\n",
            "10/10 [==============================] - 0s 2ms/step - loss: 31.6486 - accuracy: 0.5553\n",
            "Epoch 7/100\n",
            "10/10 [==============================] - 0s 1ms/step - loss: 21.1456 - accuracy: 0.6080\n",
            "Epoch 8/100\n",
            "10/10 [==============================] - 0s 2ms/step - loss: 17.9271 - accuracy: 0.6508\n",
            "Epoch 9/100\n",
            "10/10 [==============================] - 0s 2ms/step - loss: 13.4966 - accuracy: 0.6935\n",
            "Epoch 10/100\n",
            "10/10 [==============================] - 0s 2ms/step - loss: 11.6826 - accuracy: 0.7161\n",
            "Epoch 11/100\n",
            "10/10 [==============================] - 0s 2ms/step - loss: 8.8638 - accuracy: 0.7588\n",
            "Epoch 12/100\n",
            "10/10 [==============================] - 0s 2ms/step - loss: 6.7503 - accuracy: 0.7814\n",
            "Epoch 13/100\n",
            "10/10 [==============================] - 0s 2ms/step - loss: 6.3234 - accuracy: 0.8040\n",
            "Epoch 14/100\n",
            "10/10 [==============================] - 0s 2ms/step - loss: 5.0371 - accuracy: 0.8241\n",
            "Epoch 15/100\n",
            "10/10 [==============================] - 0s 2ms/step - loss: 4.3874 - accuracy: 0.8241\n",
            "Epoch 16/100\n",
            "10/10 [==============================] - 0s 2ms/step - loss: 3.8203 - accuracy: 0.8543\n",
            "Epoch 17/100\n",
            "10/10 [==============================] - 0s 2ms/step - loss: 3.9514 - accuracy: 0.8317\n",
            "Epoch 18/100\n",
            "10/10 [==============================] - 0s 2ms/step - loss: 3.4790 - accuracy: 0.8291\n",
            "Epoch 19/100\n",
            "10/10 [==============================] - 0s 2ms/step - loss: 2.6369 - accuracy: 0.8794\n",
            "Epoch 20/100\n",
            "10/10 [==============================] - 0s 2ms/step - loss: 2.7949 - accuracy: 0.8266\n",
            "Epoch 21/100\n",
            "10/10 [==============================] - 0s 2ms/step - loss: 3.1923 - accuracy: 0.8518\n",
            "Epoch 22/100\n",
            "10/10 [==============================] - 0s 1ms/step - loss: 2.6241 - accuracy: 0.8769\n",
            "Epoch 23/100\n",
            "10/10 [==============================] - 0s 2ms/step - loss: 2.2244 - accuracy: 0.8518\n",
            "Epoch 24/100\n",
            "10/10 [==============================] - 0s 2ms/step - loss: 1.9624 - accuracy: 0.8719\n",
            "Epoch 25/100\n",
            "10/10 [==============================] - 0s 2ms/step - loss: 2.5749 - accuracy: 0.8794\n",
            "Epoch 26/100\n",
            "10/10 [==============================] - 0s 2ms/step - loss: 2.3713 - accuracy: 0.8719\n",
            "Epoch 27/100\n",
            "10/10 [==============================] - 0s 1ms/step - loss: 2.1892 - accuracy: 0.8744\n",
            "Epoch 28/100\n",
            "10/10 [==============================] - 0s 2ms/step - loss: 1.9578 - accuracy: 0.8869\n",
            "Epoch 29/100\n",
            "10/10 [==============================] - 0s 1ms/step - loss: 1.8024 - accuracy: 0.8869\n",
            "Epoch 30/100\n",
            "10/10 [==============================] - 0s 2ms/step - loss: 2.0404 - accuracy: 0.8819\n",
            "Epoch 31/100\n",
            "10/10 [==============================] - 0s 2ms/step - loss: 1.7524 - accuracy: 0.8618\n",
            "Epoch 32/100\n",
            "10/10 [==============================] - 0s 1ms/step - loss: 1.6048 - accuracy: 0.8995\n",
            "Epoch 33/100\n",
            "10/10 [==============================] - 0s 2ms/step - loss: 1.7867 - accuracy: 0.8593\n",
            "Epoch 34/100\n",
            "10/10 [==============================] - 0s 2ms/step - loss: 1.5203 - accuracy: 0.9020\n",
            "Epoch 35/100\n",
            "10/10 [==============================] - 0s 1ms/step - loss: 1.5177 - accuracy: 0.8844\n",
            "Epoch 36/100\n",
            "10/10 [==============================] - 0s 1ms/step - loss: 1.2511 - accuracy: 0.8970\n",
            "Epoch 37/100\n",
            "10/10 [==============================] - 0s 2ms/step - loss: 1.3640 - accuracy: 0.8819\n",
            "Epoch 38/100\n",
            "10/10 [==============================] - 0s 1ms/step - loss: 1.2921 - accuracy: 0.8945\n",
            "Epoch 39/100\n",
            "10/10 [==============================] - 0s 1ms/step - loss: 1.3901 - accuracy: 0.9045\n",
            "Epoch 40/100\n",
            "10/10 [==============================] - 0s 2ms/step - loss: 1.2240 - accuracy: 0.8794\n",
            "Epoch 41/100\n",
            "10/10 [==============================] - 0s 2ms/step - loss: 1.2303 - accuracy: 0.8869\n",
            "Epoch 42/100\n",
            "10/10 [==============================] - 0s 1ms/step - loss: 1.1825 - accuracy: 0.9070\n",
            "Epoch 43/100\n",
            "10/10 [==============================] - 0s 2ms/step - loss: 1.2271 - accuracy: 0.8769\n",
            "Epoch 44/100\n",
            "10/10 [==============================] - 0s 2ms/step - loss: 1.1361 - accuracy: 0.9070\n",
            "Epoch 45/100\n",
            "10/10 [==============================] - 0s 2ms/step - loss: 1.1975 - accuracy: 0.8970\n",
            "Epoch 46/100\n",
            "10/10 [==============================] - 0s 1ms/step - loss: 1.1199 - accuracy: 0.8920\n",
            "Epoch 47/100\n",
            "10/10 [==============================] - 0s 1ms/step - loss: 0.8802 - accuracy: 0.9121\n",
            "Epoch 48/100\n",
            "10/10 [==============================] - 0s 2ms/step - loss: 1.1184 - accuracy: 0.9121\n",
            "Epoch 49/100\n",
            "10/10 [==============================] - 0s 1ms/step - loss: 0.8284 - accuracy: 0.8819\n",
            "Epoch 50/100\n",
            "10/10 [==============================] - 0s 1ms/step - loss: 1.2523 - accuracy: 0.9020\n",
            "Epoch 51/100\n",
            "10/10 [==============================] - 0s 1ms/step - loss: 0.9391 - accuracy: 0.8995\n",
            "Epoch 52/100\n",
            "10/10 [==============================] - 0s 2ms/step - loss: 0.8640 - accuracy: 0.8970\n",
            "Epoch 53/100\n",
            "10/10 [==============================] - 0s 2ms/step - loss: 0.8793 - accuracy: 0.8995\n",
            "Epoch 54/100\n",
            "10/10 [==============================] - 0s 2ms/step - loss: 1.0982 - accuracy: 0.8819\n",
            "Epoch 55/100\n",
            "10/10 [==============================] - 0s 2ms/step - loss: 0.9747 - accuracy: 0.8869\n",
            "Epoch 56/100\n",
            "10/10 [==============================] - 0s 2ms/step - loss: 1.0453 - accuracy: 0.9070\n",
            "Epoch 57/100\n",
            "10/10 [==============================] - 0s 2ms/step - loss: 0.9376 - accuracy: 0.8995\n",
            "Epoch 58/100\n",
            "10/10 [==============================] - 0s 2ms/step - loss: 1.0283 - accuracy: 0.9045\n",
            "Epoch 59/100\n",
            "10/10 [==============================] - 0s 1ms/step - loss: 0.6239 - accuracy: 0.9322\n",
            "Epoch 60/100\n",
            "10/10 [==============================] - 0s 2ms/step - loss: 0.9262 - accuracy: 0.8894\n",
            "Epoch 61/100\n",
            "10/10 [==============================] - 0s 2ms/step - loss: 0.8884 - accuracy: 0.8693\n",
            "Epoch 62/100\n",
            "10/10 [==============================] - 0s 1ms/step - loss: 1.2162 - accuracy: 0.8467\n",
            "Epoch 63/100\n",
            "10/10 [==============================] - 0s 2ms/step - loss: 1.0260 - accuracy: 0.9070\n",
            "Epoch 64/100\n",
            "10/10 [==============================] - 0s 2ms/step - loss: 1.1532 - accuracy: 0.8819\n",
            "Epoch 65/100\n",
            "10/10 [==============================] - 0s 2ms/step - loss: 1.1293 - accuracy: 0.8869\n",
            "Epoch 66/100\n",
            "10/10 [==============================] - 0s 2ms/step - loss: 0.9340 - accuracy: 0.8945\n",
            "Epoch 67/100\n",
            "10/10 [==============================] - 0s 2ms/step - loss: 0.7307 - accuracy: 0.8970\n",
            "Epoch 68/100\n",
            "10/10 [==============================] - 0s 2ms/step - loss: 0.8231 - accuracy: 0.9020\n",
            "Epoch 69/100\n",
            "10/10 [==============================] - 0s 2ms/step - loss: 0.8861 - accuracy: 0.9070\n",
            "Epoch 70/100\n",
            "10/10 [==============================] - 0s 2ms/step - loss: 1.3159 - accuracy: 0.8668\n",
            "Epoch 71/100\n",
            "10/10 [==============================] - 0s 2ms/step - loss: 1.1489 - accuracy: 0.8693\n",
            "Epoch 72/100\n",
            "10/10 [==============================] - 0s 2ms/step - loss: 0.8447 - accuracy: 0.9146\n",
            "Epoch 73/100\n",
            "10/10 [==============================] - 0s 2ms/step - loss: 0.7646 - accuracy: 0.8920\n",
            "Epoch 74/100\n",
            "10/10 [==============================] - 0s 1ms/step - loss: 0.7374 - accuracy: 0.8970\n",
            "Epoch 75/100\n",
            "10/10 [==============================] - 0s 1ms/step - loss: 0.7801 - accuracy: 0.8945\n",
            "Epoch 76/100\n",
            "10/10 [==============================] - 0s 2ms/step - loss: 0.7695 - accuracy: 0.9045\n",
            "Epoch 77/100\n",
            "10/10 [==============================] - 0s 2ms/step - loss: 0.7683 - accuracy: 0.9070\n",
            "Epoch 78/100\n",
            "10/10 [==============================] - 0s 2ms/step - loss: 0.8280 - accuracy: 0.8794\n",
            "Epoch 79/100\n",
            "10/10 [==============================] - 0s 2ms/step - loss: 0.5330 - accuracy: 0.9271\n",
            "Epoch 80/100\n",
            "10/10 [==============================] - 0s 2ms/step - loss: 0.5959 - accuracy: 0.8995\n",
            "Epoch 81/100\n",
            "10/10 [==============================] - 0s 1ms/step - loss: 0.7266 - accuracy: 0.9020\n",
            "Epoch 82/100\n",
            "10/10 [==============================] - 0s 1ms/step - loss: 0.7439 - accuracy: 0.9095\n",
            "Epoch 83/100\n",
            "10/10 [==============================] - 0s 2ms/step - loss: 0.6823 - accuracy: 0.9146\n",
            "Epoch 84/100\n",
            "10/10 [==============================] - 0s 2ms/step - loss: 0.6265 - accuracy: 0.8920\n",
            "Epoch 85/100\n",
            "10/10 [==============================] - 0s 2ms/step - loss: 0.8914 - accuracy: 0.8819\n",
            "Epoch 86/100\n",
            "10/10 [==============================] - 0s 1ms/step - loss: 0.6026 - accuracy: 0.9171\n",
            "Epoch 87/100\n",
            "10/10 [==============================] - 0s 2ms/step - loss: 0.6769 - accuracy: 0.9070\n",
            "Epoch 88/100\n",
            "10/10 [==============================] - 0s 2ms/step - loss: 0.5190 - accuracy: 0.9045\n",
            "Epoch 89/100\n",
            "10/10 [==============================] - 0s 2ms/step - loss: 0.6585 - accuracy: 0.9246\n",
            "Epoch 90/100\n",
            "10/10 [==============================] - 0s 2ms/step - loss: 0.6757 - accuracy: 0.8995\n",
            "Epoch 91/100\n",
            "10/10 [==============================] - 0s 2ms/step - loss: 0.6326 - accuracy: 0.8970\n",
            "Epoch 92/100\n",
            "10/10 [==============================] - 0s 2ms/step - loss: 0.6974 - accuracy: 0.9070\n",
            "Epoch 93/100\n",
            "10/10 [==============================] - 0s 2ms/step - loss: 0.5458 - accuracy: 0.9221\n",
            "Epoch 94/100\n",
            "10/10 [==============================] - 0s 2ms/step - loss: 0.7036 - accuracy: 0.8945\n",
            "Epoch 95/100\n",
            "10/10 [==============================] - 0s 2ms/step - loss: 0.6357 - accuracy: 0.8995\n",
            "Epoch 96/100\n",
            "10/10 [==============================] - 0s 2ms/step - loss: 0.6186 - accuracy: 0.8995\n",
            "Epoch 97/100\n",
            "10/10 [==============================] - 0s 1ms/step - loss: 0.9338 - accuracy: 0.8920\n",
            "Epoch 98/100\n",
            "10/10 [==============================] - 0s 2ms/step - loss: 0.6600 - accuracy: 0.9121\n",
            "Epoch 99/100\n",
            "10/10 [==============================] - 0s 1ms/step - loss: 0.4841 - accuracy: 0.9221\n",
            "Epoch 100/100\n",
            "10/10 [==============================] - 0s 2ms/step - loss: 0.5849 - accuracy: 0.9196\n",
            "AUC 0.970995670995671\n",
            "              precision    recall  f1-score   support\n",
            "\n",
            "           0       0.94      0.88      0.91        66\n",
            "           1       0.93      0.96      0.94       105\n",
            "\n",
            "    accuracy                           0.93       171\n",
            "   macro avg       0.93      0.92      0.93       171\n",
            "weighted avg       0.93      0.93      0.93       171\n",
            "\n",
            "[[ 58   8]\n",
            " [  4 101]]\n"
          ]
        },
        {
          "output_type": "display_data",
          "data": {
            "image/png": "[encoded data removed]",
            "text/plain": [
              "<Figure size 576x432 with 1 Axes>"
            ]
          },
          "metadata": {
            "needs_background": "light"
          }
        },
        {
          "output_type": "execute_result",
          "data": {
            "text/html": [
              "<div>\n",
              "<style scoped>\n",
              "    .dataframe tbody tr th:only-of-type {\n",
              "        vertical-align: middle;\n",
              "    }\n",
              "\n",
              "    .dataframe tbody tr th {\n",
              "        vertical-align: top;\n",
              "    }\n",
              "\n",
              "    .dataframe thead th {\n",
              "        text-align: right;\n",
              "    }\n",
              "</style>\n",
              "<table border=\"1\" class=\"dataframe\">\n",
              "  <thead>\n",
              "    <tr style=\"text-align: right;\">\n",
              "      <th></th>\n",
              "      <th>fpr</th>\n",
              "      <th>tpr</th>\n",
              "      <th>auc</th>\n",
              "      <th>f1</th>\n",
              "      <th>mcc</th>\n",
              "      <th>confusion_matrix</th>\n",
              "    </tr>\n",
              "    <tr>\n",
              "      <th>classifiers</th>\n",
              "      <th></th>\n",
              "      <th></th>\n",
              "      <th></th>\n",
              "      <th></th>\n",
              "      <th></th>\n",
              "      <th></th>\n",
              "    </tr>\n",
              "  </thead>\n",
              "  <tbody>\n",
              "    <tr>\n",
              "      <th>DNN</th>\n",
              "      <td>[0.0, 0.0, 0.0, 0.0, 0.0, 0.0, 0.0, 0.0, 0.0, ...</td>\n",
              "      <td>[0.0, 0.38095238095238093, 0.3904761904761905,...</td>\n",
              "      <td>0.970996</td>\n",
              "      <td>0.943925</td>\n",
              "      <td>0.851324</td>\n",
              "      <td>[[58, 8], [4, 101]]</td>\n",
              "    </tr>\n",
              "  </tbody>\n",
              "</table>\n",
              "</div>"
            ],
            "text/plain": [
              "                                                           fpr  ...     confusion_matrix\n",
              "classifiers                                                     ...                     \n",
              "DNN          [0.0, 0.0, 0.0, 0.0, 0.0, 0.0, 0.0, 0.0, 0.0, ...  ...  [[58, 8], [4, 101]]\n",
              "\n",
              "[1 rows x 6 columns]"
            ]
          },
          "metadata": {},
          "execution_count": 31
        }
      ]
    },
    {
      "cell_type": "code",
      "metadata": {
        "id": "pY_Ks_LWW3U0"
      },
      "source": [
        ""
      ],
      "execution_count": 31,
      "outputs": []
    },
    {
      "cell_type": "code",
      "metadata": {
        "id": "IjDd-q3eXash"
      },
      "source": [
        ""
      ],
      "execution_count": 31,
      "outputs": []
    },
    {
      "cell_type": "code",
      "metadata": {
        "id": "lzd3Or2zXfMJ"
      },
      "source": [
        ""
      ],
      "execution_count": 31,
      "outputs": []
    },
    {
      "cell_type": "code",
      "metadata": {
        "id": "zHjc260iXrUi"
      },
      "source": [
        ""
      ],
      "execution_count": 31,
      "outputs": []
    },
    {
      "cell_type": "code",
      "metadata": {
        "id": "dQBVPaSHXxcT"
      },
      "source": [
        ""
      ],
      "execution_count": 31,
      "outputs": []
    },
    {
      "cell_type": "code",
      "metadata": {
        "id": "UX3hhglfX4Fh"
      },
      "source": [
        ""
      ],
      "execution_count": 31,
      "outputs": []
    },
    {
      "cell_type": "code",
      "metadata": {
        "id": "fjNNy84oY7xy"
      },
      "source": [
        "# focus com problemas de imagem, na onda do João Correia , sifar10 e sifar 1000"
      ],
      "execution_count": 32,
      "outputs": []
    }
  ]
}