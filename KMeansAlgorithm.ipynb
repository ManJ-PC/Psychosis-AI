{
  "nbformat": 4,
  "nbformat_minor": 0,
  "metadata": {
    "colab": {
      "name": "KMeansAlgorithm.ipynb",
      "provenance": [],
      "authorship_tag": "ABX9TyNExpR3yJj+S6VVI3LGsfF+",
      "include_colab_link": true
    },
    "kernelspec": {
      "name": "python3",
      "display_name": "Python 3"
    },
    "language_info": {
      "name": "python"
    }
  },
  "cells": [
    {
      "cell_type": "markdown",
      "metadata": {
        "id": "view-in-github",
        "colab_type": "text"
      },
      "source": [
        "<a href=\"https://colab.research.google.com/github/ManJ-PC/Psychosis-AI/blob/master/KMeansAlgorithm.ipynb\" target=\"_parent\"><img src=\"https://colab.research.google.com/assets/colab-badge.svg\" alt=\"Open In Colab\"/></a>"
      ]
    },
    {
      "cell_type": "code",
      "metadata": {
        "id": "vghf8IcKO49c"
      },
      "source": [
        ""
      ],
      "execution_count": 1,
      "outputs": []
    },
    {
      "cell_type": "markdown",
      "metadata": {
        "id": "dC8-TyyuPR5r"
      },
      "source": [
        ""
      ]
    },
    {
      "cell_type": "code",
      "metadata": {
        "id": "R9UzLRbDPOuA"
      },
      "source": [
        ""
      ],
      "execution_count": 1,
      "outputs": []
    },
    {
      "cell_type": "markdown",
      "metadata": {
        "id": "fEc06lQFPVtZ"
      },
      "source": [
        "ML algorithms are\n",
        "categorized into 3 main categories:\n",
        "\n",
        "*   Supervised   (class label or a target variable present)\n",
        "*   Unsupervised (you have is set of features you don't know about\n",
        "your target variable or a class label using this data set we try to identify the\n",
        "underlying structure in that data  or we sometimes try to find the clusters\n",
        "in that data\n",
        "and we can make useful predictions out\n",
        "of it k\n",
        "means is a very popular clustering\n",
        "algorithm)\n",
        "*   Reinforcement \n",
        "\n",
        "Learning\n",
        "\n",
        "\n",
        "\n",
        "\n",
        "\n"
      ]
    },
    {
      "cell_type": "code",
      "metadata": {
        "id": "v2YthW3j5UCX"
      },
      "source": [
        "import pandas as pd\n",
        "# from sklearn.preprocessing import MinMaxScaler 2 rectangles input below\n",
        "\n",
        "wages = {'Name': ['Rob','Michael','Mohan','Ismail'],\n",
        "         'Age': [27, 29, 29, 28],\n",
        "        'Price': [22000,25000,27000,35000]\n",
        "        }\n",
        "\n",
        "tab = pd.DataFrame(wages, columns = ['Name','Age', 'Price'])\n"
      ],
      "execution_count": 2,
      "outputs": []
    },
    {
      "cell_type": "code",
      "metadata": {
        "colab": {
          "base_uri": "https://localhost:8080/",
          "height": 172
        },
        "id": "qzOpyEtf6lCV",
        "outputId": "1635aa6c-e8a8-4fbf-93b6-6760aac8dad4"
      },
      "source": [
        "tab"
      ],
      "execution_count": 3,
      "outputs": [
        {
          "output_type": "execute_result",
          "data": {
            "text/html": [
              "<div>\n",
              "<style scoped>\n",
              "    .dataframe tbody tr th:only-of-type {\n",
              "        vertical-align: middle;\n",
              "    }\n",
              "\n",
              "    .dataframe tbody tr th {\n",
              "        vertical-align: top;\n",
              "    }\n",
              "\n",
              "    .dataframe thead th {\n",
              "        text-align: right;\n",
              "    }\n",
              "</style>\n",
              "<table border=\"1\" class=\"dataframe\">\n",
              "  <thead>\n",
              "    <tr style=\"text-align: right;\">\n",
              "      <th></th>\n",
              "      <th>Name</th>\n",
              "      <th>Age</th>\n",
              "      <th>Price</th>\n",
              "    </tr>\n",
              "  </thead>\n",
              "  <tbody>\n",
              "    <tr>\n",
              "      <th>0</th>\n",
              "      <td>Rob</td>\n",
              "      <td>27</td>\n",
              "      <td>22000</td>\n",
              "    </tr>\n",
              "    <tr>\n",
              "      <th>1</th>\n",
              "      <td>Michael</td>\n",
              "      <td>29</td>\n",
              "      <td>25000</td>\n",
              "    </tr>\n",
              "    <tr>\n",
              "      <th>2</th>\n",
              "      <td>Mohan</td>\n",
              "      <td>29</td>\n",
              "      <td>27000</td>\n",
              "    </tr>\n",
              "    <tr>\n",
              "      <th>3</th>\n",
              "      <td>Ismail</td>\n",
              "      <td>28</td>\n",
              "      <td>35000</td>\n",
              "    </tr>\n",
              "  </tbody>\n",
              "</table>\n",
              "</div>"
            ],
            "text/plain": [
              "      Name  Age  Price\n",
              "0      Rob   27  22000\n",
              "1  Michael   29  25000\n",
              "2    Mohan   29  27000\n",
              "3   Ismail   28  35000"
            ]
          },
          "metadata": {
            "tags": []
          },
          "execution_count": 3
        }
      ]
    },
    {
      "cell_type": "code",
      "metadata": {
        "id": "ev5S3DWx6nSZ"
      },
      "source": [
        "\n",
        "from sklearn.cluster import KMeans\n",
        "import pandas as pd\n",
        "from sklearn.preprocessing import MinMaxScaler\n",
        "from matplotlib import pyplot as plt\n",
        "%matplotlib inline"
      ],
      "execution_count": 4,
      "outputs": []
    },
    {
      "cell_type": "code",
      "metadata": {
        "colab": {
          "base_uri": "https://localhost:8080/",
          "height": 234
        },
        "id": "Hkj24HZr8Ilx",
        "outputId": "7888314a-a56a-4b57-90f3-615ade7702ce"
      },
      "source": [
        "url = 'https://raw.githubusercontent.com/codebasics/py/master/ML/13_kmeans/income.csv'\n",
        "df = pd.read_csv(url, index_col=0)\n",
        "df.head()"
      ],
      "execution_count": 5,
      "outputs": [
        {
          "output_type": "execute_result",
          "data": {
            "text/html": [
              "<div>\n",
              "<style scoped>\n",
              "    .dataframe tbody tr th:only-of-type {\n",
              "        vertical-align: middle;\n",
              "    }\n",
              "\n",
              "    .dataframe tbody tr th {\n",
              "        vertical-align: top;\n",
              "    }\n",
              "\n",
              "    .dataframe thead th {\n",
              "        text-align: right;\n",
              "    }\n",
              "</style>\n",
              "<table border=\"1\" class=\"dataframe\">\n",
              "  <thead>\n",
              "    <tr style=\"text-align: right;\">\n",
              "      <th></th>\n",
              "      <th>Age</th>\n",
              "      <th>Income($)</th>\n",
              "    </tr>\n",
              "    <tr>\n",
              "      <th>Name</th>\n",
              "      <th></th>\n",
              "      <th></th>\n",
              "    </tr>\n",
              "  </thead>\n",
              "  <tbody>\n",
              "    <tr>\n",
              "      <th>Rob</th>\n",
              "      <td>27</td>\n",
              "      <td>70000</td>\n",
              "    </tr>\n",
              "    <tr>\n",
              "      <th>Michael</th>\n",
              "      <td>29</td>\n",
              "      <td>90000</td>\n",
              "    </tr>\n",
              "    <tr>\n",
              "      <th>Mohan</th>\n",
              "      <td>29</td>\n",
              "      <td>61000</td>\n",
              "    </tr>\n",
              "    <tr>\n",
              "      <th>Ismail</th>\n",
              "      <td>28</td>\n",
              "      <td>60000</td>\n",
              "    </tr>\n",
              "    <tr>\n",
              "      <th>Kory</th>\n",
              "      <td>42</td>\n",
              "      <td>150000</td>\n",
              "    </tr>\n",
              "  </tbody>\n",
              "</table>\n",
              "</div>"
            ],
            "text/plain": [
              "         Age  Income($)\n",
              "Name                   \n",
              "Rob       27      70000\n",
              "Michael   29      90000\n",
              "Mohan     29      61000\n",
              "Ismail    28      60000\n",
              "Kory      42     150000"
            ]
          },
          "metadata": {
            "tags": []
          },
          "execution_count": 5
        }
      ]
    },
    {
      "cell_type": "code",
      "metadata": {
        "colab": {
          "base_uri": "https://localhost:8080/",
          "height": 282
        },
        "id": "JBGlDncJlPht",
        "outputId": "110ba3ee-6744-47ce-9b30-c26c2f443e50"
      },
      "source": [
        "plt.scatter(df['Age'],df['Income($)'])"
      ],
      "execution_count": 6,
      "outputs": [
        {
          "output_type": "execute_result",
          "data": {
            "text/plain": [
              "<matplotlib.collections.PathCollection at 0x7f9770d0c510>"
            ]
          },
          "metadata": {
            "tags": []
          },
          "execution_count": 6
        },
        {
          "output_type": "display_data",
          "data": {
            "image/png": "[encoded data removed]",
            "text/plain": [
              "<Figure size 432x288 with 1 Axes>"
            ]
          },
          "metadata": {
            "tags": [],
            "needs_background": "light"
          }
        }
      ]
    },
    {
      "cell_type": "markdown",
      "metadata": {
        "id": "w3THjXvIBggR"
      },
      "source": [
        "![K Means Clutter determine k value for ângle representation.png](data:image/png;base64,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)"
      ]
    },
    {
      "cell_type": "markdown",
      "metadata": {
        "id": "gj41BEpFgcD_"
      },
      "source": [
        "![K Means Clutter determine k value biggestAngle.png](data:image/png;base64,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)\n",
        "  "
      ]
    },
    {
      "cell_type": "code",
      "metadata": {
        "colab": {
          "base_uri": "https://localhost:8080/"
        },
        "id": "T-vijAWrmmIJ",
        "outputId": "8e66994b-07be-48c3-cddf-e1cac888da17"
      },
      "source": [
        "km = KMeans(n_clusters=3) #esta imagem não corresponde..\n",
        "km"
      ],
      "execution_count": 7,
      "outputs": [
        {
          "output_type": "execute_result",
          "data": {
            "text/plain": [
              "KMeans(algorithm='auto', copy_x=True, init='k-means++', max_iter=300,\n",
              "       n_clusters=3, n_init=10, n_jobs=None, precompute_distances='auto',\n",
              "       random_state=None, tol=0.0001, verbose=0)"
            ]
          },
          "metadata": {
            "tags": []
          },
          "execution_count": 7
        }
      ]
    },
    {
      "cell_type": "code",
      "metadata": {
        "colab": {
          "base_uri": "https://localhost:8080/"
        },
        "id": "Ndv24Bjsmz7x",
        "outputId": "4fefb6d0-d561-461f-aed9-33446176a7a2"
      },
      "source": [
        "y_predicted = km.fit_predict(df[['Age','Income($)']])\n",
        "y_predicted"
      ],
      "execution_count": 8,
      "outputs": [
        {
          "output_type": "execute_result",
          "data": {
            "text/plain": [
              "array([2, 2, 0, 0, 1, 1, 1, 1, 1, 1, 1, 0, 0, 0, 0, 0, 0, 0, 0, 2, 2, 0],\n",
              "      dtype=int32)"
            ]
          },
          "metadata": {
            "tags": []
          },
          "execution_count": 8
        }
      ]
    },
    {
      "cell_type": "code",
      "metadata": {
        "colab": {
          "base_uri": "https://localhost:8080/",
          "height": 758
        },
        "id": "E8zCOOf0nFNZ",
        "outputId": "f10e5072-75ea-4720-ceb1-07b1fb319620"
      },
      "source": [
        "df['cluster']=y_predicted\n",
        "df.head(25)"
      ],
      "execution_count": 9,
      "outputs": [
        {
          "output_type": "execute_result",
          "data": {
            "text/html": [
              "<div>\n",
              "<style scoped>\n",
              "    .dataframe tbody tr th:only-of-type {\n",
              "        vertical-align: middle;\n",
              "    }\n",
              "\n",
              "    .dataframe tbody tr th {\n",
              "        vertical-align: top;\n",
              "    }\n",
              "\n",
              "    .dataframe thead th {\n",
              "        text-align: right;\n",
              "    }\n",
              "</style>\n",
              "<table border=\"1\" class=\"dataframe\">\n",
              "  <thead>\n",
              "    <tr style=\"text-align: right;\">\n",
              "      <th></th>\n",
              "      <th>Age</th>\n",
              "      <th>Income($)</th>\n",
              "      <th>cluster</th>\n",
              "    </tr>\n",
              "    <tr>\n",
              "      <th>Name</th>\n",
              "      <th></th>\n",
              "      <th></th>\n",
              "      <th></th>\n",
              "    </tr>\n",
              "  </thead>\n",
              "  <tbody>\n",
              "    <tr>\n",
              "      <th>Rob</th>\n",
              "      <td>27</td>\n",
              "      <td>70000</td>\n",
              "      <td>2</td>\n",
              "    </tr>\n",
              "    <tr>\n",
              "      <th>Michael</th>\n",
              "      <td>29</td>\n",
              "      <td>90000</td>\n",
              "      <td>2</td>\n",
              "    </tr>\n",
              "    <tr>\n",
              "      <th>Mohan</th>\n",
              "      <td>29</td>\n",
              "      <td>61000</td>\n",
              "      <td>0</td>\n",
              "    </tr>\n",
              "    <tr>\n",
              "      <th>Ismail</th>\n",
              "      <td>28</td>\n",
              "      <td>60000</td>\n",
              "      <td>0</td>\n",
              "    </tr>\n",
              "    <tr>\n",
              "      <th>Kory</th>\n",
              "      <td>42</td>\n",
              "      <td>150000</td>\n",
              "      <td>1</td>\n",
              "    </tr>\n",
              "    <tr>\n",
              "      <th>Gautam</th>\n",
              "      <td>39</td>\n",
              "      <td>155000</td>\n",
              "      <td>1</td>\n",
              "    </tr>\n",
              "    <tr>\n",
              "      <th>David</th>\n",
              "      <td>41</td>\n",
              "      <td>160000</td>\n",
              "      <td>1</td>\n",
              "    </tr>\n",
              "    <tr>\n",
              "      <th>Andrea</th>\n",
              "      <td>38</td>\n",
              "      <td>162000</td>\n",
              "      <td>1</td>\n",
              "    </tr>\n",
              "    <tr>\n",
              "      <th>Brad</th>\n",
              "      <td>36</td>\n",
              "      <td>156000</td>\n",
              "      <td>1</td>\n",
              "    </tr>\n",
              "    <tr>\n",
              "      <th>Angelina</th>\n",
              "      <td>35</td>\n",
              "      <td>130000</td>\n",
              "      <td>1</td>\n",
              "    </tr>\n",
              "    <tr>\n",
              "      <th>Donald</th>\n",
              "      <td>37</td>\n",
              "      <td>137000</td>\n",
              "      <td>1</td>\n",
              "    </tr>\n",
              "    <tr>\n",
              "      <th>Tom</th>\n",
              "      <td>26</td>\n",
              "      <td>45000</td>\n",
              "      <td>0</td>\n",
              "    </tr>\n",
              "    <tr>\n",
              "      <th>Arnold</th>\n",
              "      <td>27</td>\n",
              "      <td>48000</td>\n",
              "      <td>0</td>\n",
              "    </tr>\n",
              "    <tr>\n",
              "      <th>Jared</th>\n",
              "      <td>28</td>\n",
              "      <td>51000</td>\n",
              "      <td>0</td>\n",
              "    </tr>\n",
              "    <tr>\n",
              "      <th>Stark</th>\n",
              "      <td>29</td>\n",
              "      <td>49500</td>\n",
              "      <td>0</td>\n",
              "    </tr>\n",
              "    <tr>\n",
              "      <th>Ranbir</th>\n",
              "      <td>32</td>\n",
              "      <td>53000</td>\n",
              "      <td>0</td>\n",
              "    </tr>\n",
              "    <tr>\n",
              "      <th>Dipika</th>\n",
              "      <td>40</td>\n",
              "      <td>65000</td>\n",
              "      <td>0</td>\n",
              "    </tr>\n",
              "    <tr>\n",
              "      <th>Priyanka</th>\n",
              "      <td>41</td>\n",
              "      <td>63000</td>\n",
              "      <td>0</td>\n",
              "    </tr>\n",
              "    <tr>\n",
              "      <th>Nick</th>\n",
              "      <td>43</td>\n",
              "      <td>64000</td>\n",
              "      <td>0</td>\n",
              "    </tr>\n",
              "    <tr>\n",
              "      <th>Alia</th>\n",
              "      <td>39</td>\n",
              "      <td>80000</td>\n",
              "      <td>2</td>\n",
              "    </tr>\n",
              "    <tr>\n",
              "      <th>Sid</th>\n",
              "      <td>41</td>\n",
              "      <td>82000</td>\n",
              "      <td>2</td>\n",
              "    </tr>\n",
              "    <tr>\n",
              "      <th>Abdul</th>\n",
              "      <td>39</td>\n",
              "      <td>58000</td>\n",
              "      <td>0</td>\n",
              "    </tr>\n",
              "  </tbody>\n",
              "</table>\n",
              "</div>"
            ],
            "text/plain": [
              "          Age  Income($)  cluster\n",
              "Name                             \n",
              "Rob        27      70000        2\n",
              "Michael    29      90000        2\n",
              "Mohan      29      61000        0\n",
              "Ismail     28      60000        0\n",
              "Kory       42     150000        1\n",
              "Gautam     39     155000        1\n",
              "David      41     160000        1\n",
              "Andrea     38     162000        1\n",
              "Brad       36     156000        1\n",
              "Angelina   35     130000        1\n",
              "Donald     37     137000        1\n",
              "Tom        26      45000        0\n",
              "Arnold     27      48000        0\n",
              "Jared      28      51000        0\n",
              "Stark      29      49500        0\n",
              "Ranbir     32      53000        0\n",
              "Dipika     40      65000        0\n",
              "Priyanka   41      63000        0\n",
              "Nick       43      64000        0\n",
              "Alia       39      80000        2\n",
              "Sid        41      82000        2\n",
              "Abdul      39      58000        0"
            ]
          },
          "metadata": {
            "tags": []
          },
          "execution_count": 9
        }
      ]
    },
    {
      "cell_type": "code",
      "metadata": {
        "colab": {
          "base_uri": "https://localhost:8080/"
        },
        "id": "7qs6qkl2N78O",
        "outputId": "a2c6220f-961a-4e77-e8b4-069ca39fe921"
      },
      "source": [
        "\n",
        "km.cluster_centers_"
      ],
      "execution_count": 10,
      "outputs": [
        {
          "output_type": "execute_result",
          "data": {
            "text/plain": [
              "array([[3.29090909e+01, 5.61363636e+04],\n",
              "       [3.82857143e+01, 1.50000000e+05],\n",
              "       [3.40000000e+01, 8.05000000e+04]])"
            ]
          },
          "metadata": {
            "tags": []
          },
          "execution_count": 10
        }
      ]
    },
    {
      "cell_type": "code",
      "metadata": {
        "colab": {
          "base_uri": "https://localhost:8080/",
          "height": 313
        },
        "id": "IanINgcwCyXu",
        "outputId": "49c97879-30c8-482f-f524-7d10739081ed"
      },
      "source": [
        "df1 = df[df.cluster==0]\n",
        "df2 = df[df.cluster==1]\n",
        "df3 = df[df.cluster==2]\n",
        "\n",
        "plt.scatter(df1.Age,df1['Income($)'], color ='green')\n",
        "plt.scatter(df2.Age,df2['Income($)'], color = 'red')\n",
        "plt.scatter(df3.Age,df3['Income($)'], color='black')\n",
        "\n",
        "plt.xlabel('Age')\n",
        "plt.ylabel('Income ($)')\n",
        "plt.legend()"
      ],
      "execution_count": 11,
      "outputs": [
        {
          "output_type": "stream",
          "text": [
            "No handles with labels found to put in legend.\n"
          ],
          "name": "stderr"
        },
        {
          "output_type": "execute_result",
          "data": {
            "text/plain": [
              "<matplotlib.legend.Legend at 0x7f976fd91b50>"
            ]
          },
          "metadata": {
            "tags": []
          },
          "execution_count": 11
        },
        {
          "output_type": "display_data",
          "data": {
            "image/png": "[encoded data removed]",
            "text/plain": [
              "<Figure size 432x288 with 1 Axes>"
            ]
          },
          "metadata": {
            "tags": [],
            "needs_background": "light"
          }
        }
      ]
    },
    {
      "cell_type": "code",
      "metadata": {
        "colab": {
          "base_uri": "https://localhost:8080/",
          "height": 758
        },
        "id": "KqqMMKG5nBem",
        "outputId": "a8c9fbd5-7915-4132-c474-65bb9389a721"
      },
      "source": [
        "'''so when you don't scale your features\n",
        "properly\n",
        "properly you might get into this problem\n",
        "that's why we need to do some\n",
        "pre-processing\n",
        "and use min max killer to scale\n",
        "these two features and then only we can\n",
        "run our algorithm\n",
        "all right so we are going to use min\n",
        "max scalar '''\n",
        "\n",
        "scaler = MinMaxScaler()\n",
        "\n",
        "#scale the Income($)\n",
        "scaler.fit(df[['Income($)']]) # make the scale 0 to 1 \n",
        "#df['Income($)'] = scaler.transform(df['Income($)'])\n",
        "df['Income($)'] = scaler.transform(df[['Income($)']])\n",
        "\n",
        "#Scale the age\n",
        "scaler.fit(df[['Age']]) #\n",
        "df['Age'] = scaler.transform(df[['Age']])\n",
        "\n",
        "df"
      ],
      "execution_count": 12,
      "outputs": [
        {
          "output_type": "execute_result",
          "data": {
            "text/html": [
              "<div>\n",
              "<style scoped>\n",
              "    .dataframe tbody tr th:only-of-type {\n",
              "        vertical-align: middle;\n",
              "    }\n",
              "\n",
              "    .dataframe tbody tr th {\n",
              "        vertical-align: top;\n",
              "    }\n",
              "\n",
              "    .dataframe thead th {\n",
              "        text-align: right;\n",
              "    }\n",
              "</style>\n",
              "<table border=\"1\" class=\"dataframe\">\n",
              "  <thead>\n",
              "    <tr style=\"text-align: right;\">\n",
              "      <th></th>\n",
              "      <th>Age</th>\n",
              "      <th>Income($)</th>\n",
              "      <th>cluster</th>\n",
              "    </tr>\n",
              "    <tr>\n",
              "      <th>Name</th>\n",
              "      <th></th>\n",
              "      <th></th>\n",
              "      <th></th>\n",
              "    </tr>\n",
              "  </thead>\n",
              "  <tbody>\n",
              "    <tr>\n",
              "      <th>Rob</th>\n",
              "      <td>0.058824</td>\n",
              "      <td>0.213675</td>\n",
              "      <td>2</td>\n",
              "    </tr>\n",
              "    <tr>\n",
              "      <th>Michael</th>\n",
              "      <td>0.176471</td>\n",
              "      <td>0.384615</td>\n",
              "      <td>2</td>\n",
              "    </tr>\n",
              "    <tr>\n",
              "      <th>Mohan</th>\n",
              "      <td>0.176471</td>\n",
              "      <td>0.136752</td>\n",
              "      <td>0</td>\n",
              "    </tr>\n",
              "    <tr>\n",
              "      <th>Ismail</th>\n",
              "      <td>0.117647</td>\n",
              "      <td>0.128205</td>\n",
              "      <td>0</td>\n",
              "    </tr>\n",
              "    <tr>\n",
              "      <th>Kory</th>\n",
              "      <td>0.941176</td>\n",
              "      <td>0.897436</td>\n",
              "      <td>1</td>\n",
              "    </tr>\n",
              "    <tr>\n",
              "      <th>Gautam</th>\n",
              "      <td>0.764706</td>\n",
              "      <td>0.940171</td>\n",
              "      <td>1</td>\n",
              "    </tr>\n",
              "    <tr>\n",
              "      <th>David</th>\n",
              "      <td>0.882353</td>\n",
              "      <td>0.982906</td>\n",
              "      <td>1</td>\n",
              "    </tr>\n",
              "    <tr>\n",
              "      <th>Andrea</th>\n",
              "      <td>0.705882</td>\n",
              "      <td>1.000000</td>\n",
              "      <td>1</td>\n",
              "    </tr>\n",
              "    <tr>\n",
              "      <th>Brad</th>\n",
              "      <td>0.588235</td>\n",
              "      <td>0.948718</td>\n",
              "      <td>1</td>\n",
              "    </tr>\n",
              "    <tr>\n",
              "      <th>Angelina</th>\n",
              "      <td>0.529412</td>\n",
              "      <td>0.726496</td>\n",
              "      <td>1</td>\n",
              "    </tr>\n",
              "    <tr>\n",
              "      <th>Donald</th>\n",
              "      <td>0.647059</td>\n",
              "      <td>0.786325</td>\n",
              "      <td>1</td>\n",
              "    </tr>\n",
              "    <tr>\n",
              "      <th>Tom</th>\n",
              "      <td>0.000000</td>\n",
              "      <td>0.000000</td>\n",
              "      <td>0</td>\n",
              "    </tr>\n",
              "    <tr>\n",
              "      <th>Arnold</th>\n",
              "      <td>0.058824</td>\n",
              "      <td>0.025641</td>\n",
              "      <td>0</td>\n",
              "    </tr>\n",
              "    <tr>\n",
              "      <th>Jared</th>\n",
              "      <td>0.117647</td>\n",
              "      <td>0.051282</td>\n",
              "      <td>0</td>\n",
              "    </tr>\n",
              "    <tr>\n",
              "      <th>Stark</th>\n",
              "      <td>0.176471</td>\n",
              "      <td>0.038462</td>\n",
              "      <td>0</td>\n",
              "    </tr>\n",
              "    <tr>\n",
              "      <th>Ranbir</th>\n",
              "      <td>0.352941</td>\n",
              "      <td>0.068376</td>\n",
              "      <td>0</td>\n",
              "    </tr>\n",
              "    <tr>\n",
              "      <th>Dipika</th>\n",
              "      <td>0.823529</td>\n",
              "      <td>0.170940</td>\n",
              "      <td>0</td>\n",
              "    </tr>\n",
              "    <tr>\n",
              "      <th>Priyanka</th>\n",
              "      <td>0.882353</td>\n",
              "      <td>0.153846</td>\n",
              "      <td>0</td>\n",
              "    </tr>\n",
              "    <tr>\n",
              "      <th>Nick</th>\n",
              "      <td>1.000000</td>\n",
              "      <td>0.162393</td>\n",
              "      <td>0</td>\n",
              "    </tr>\n",
              "    <tr>\n",
              "      <th>Alia</th>\n",
              "      <td>0.764706</td>\n",
              "      <td>0.299145</td>\n",
              "      <td>2</td>\n",
              "    </tr>\n",
              "    <tr>\n",
              "      <th>Sid</th>\n",
              "      <td>0.882353</td>\n",
              "      <td>0.316239</td>\n",
              "      <td>2</td>\n",
              "    </tr>\n",
              "    <tr>\n",
              "      <th>Abdul</th>\n",
              "      <td>0.764706</td>\n",
              "      <td>0.111111</td>\n",
              "      <td>0</td>\n",
              "    </tr>\n",
              "  </tbody>\n",
              "</table>\n",
              "</div>"
            ],
            "text/plain": [
              "               Age  Income($)  cluster\n",
              "Name                                  \n",
              "Rob       0.058824   0.213675        2\n",
              "Michael   0.176471   0.384615        2\n",
              "Mohan     0.176471   0.136752        0\n",
              "Ismail    0.117647   0.128205        0\n",
              "Kory      0.941176   0.897436        1\n",
              "Gautam    0.764706   0.940171        1\n",
              "David     0.882353   0.982906        1\n",
              "Andrea    0.705882   1.000000        1\n",
              "Brad      0.588235   0.948718        1\n",
              "Angelina  0.529412   0.726496        1\n",
              "Donald    0.647059   0.786325        1\n",
              "Tom       0.000000   0.000000        0\n",
              "Arnold    0.058824   0.025641        0\n",
              "Jared     0.117647   0.051282        0\n",
              "Stark     0.176471   0.038462        0\n",
              "Ranbir    0.352941   0.068376        0\n",
              "Dipika    0.823529   0.170940        0\n",
              "Priyanka  0.882353   0.153846        0\n",
              "Nick      1.000000   0.162393        0\n",
              "Alia      0.764706   0.299145        2\n",
              "Sid       0.882353   0.316239        2\n",
              "Abdul     0.764706   0.111111        0"
            ]
          },
          "metadata": {
            "tags": []
          },
          "execution_count": 12
        }
      ]
    },
    {
      "cell_type": "code",
      "metadata": {
        "colab": {
          "base_uri": "https://localhost:8080/"
        },
        "id": "uh4Njg7YOHQ9",
        "outputId": "9dbebf1a-f119-41b8-8297-13eaf9d9523c"
      },
      "source": [
        "km = KMeans(n_clusters=3) # e agora a escalar de outra forma...!!\n",
        "y_predicted = km.fit_predict(df[['Age','Income($)']])\n",
        "y_predicted"
      ],
      "execution_count": 13,
      "outputs": [
        {
          "output_type": "execute_result",
          "data": {
            "text/plain": [
              "array([0, 0, 0, 0, 1, 1, 1, 1, 1, 1, 1, 0, 0, 0, 0, 0, 2, 2, 2, 2, 2, 2],\n",
              "      dtype=int32)"
            ]
          },
          "metadata": {
            "tags": []
          },
          "execution_count": 13
        }
      ]
    },
    {
      "cell_type": "code",
      "metadata": {
        "colab": {
          "base_uri": "https://localhost:8080/",
          "height": 758
        },
        "id": "gTxYKdW3m3sC",
        "outputId": "d6ecb56a-3bdd-4466-ee62-16e543ebe65e"
      },
      "source": [
        "df['cluster'] = y_predicted\n",
        "#df.drop('cluter',axis='columns',inplace=True) No Vídeo ele enganou-se e criou um, inicialmente... , chamado cluter e criou com nome certo e este foi à vida\n",
        "df"
      ],
      "execution_count": 14,
      "outputs": [
        {
          "output_type": "execute_result",
          "data": {
            "text/html": [
              "<div>\n",
              "<style scoped>\n",
              "    .dataframe tbody tr th:only-of-type {\n",
              "        vertical-align: middle;\n",
              "    }\n",
              "\n",
              "    .dataframe tbody tr th {\n",
              "        vertical-align: top;\n",
              "    }\n",
              "\n",
              "    .dataframe thead th {\n",
              "        text-align: right;\n",
              "    }\n",
              "</style>\n",
              "<table border=\"1\" class=\"dataframe\">\n",
              "  <thead>\n",
              "    <tr style=\"text-align: right;\">\n",
              "      <th></th>\n",
              "      <th>Age</th>\n",
              "      <th>Income($)</th>\n",
              "      <th>cluster</th>\n",
              "    </tr>\n",
              "    <tr>\n",
              "      <th>Name</th>\n",
              "      <th></th>\n",
              "      <th></th>\n",
              "      <th></th>\n",
              "    </tr>\n",
              "  </thead>\n",
              "  <tbody>\n",
              "    <tr>\n",
              "      <th>Rob</th>\n",
              "      <td>0.058824</td>\n",
              "      <td>0.213675</td>\n",
              "      <td>0</td>\n",
              "    </tr>\n",
              "    <tr>\n",
              "      <th>Michael</th>\n",
              "      <td>0.176471</td>\n",
              "      <td>0.384615</td>\n",
              "      <td>0</td>\n",
              "    </tr>\n",
              "    <tr>\n",
              "      <th>Mohan</th>\n",
              "      <td>0.176471</td>\n",
              "      <td>0.136752</td>\n",
              "      <td>0</td>\n",
              "    </tr>\n",
              "    <tr>\n",
              "      <th>Ismail</th>\n",
              "      <td>0.117647</td>\n",
              "      <td>0.128205</td>\n",
              "      <td>0</td>\n",
              "    </tr>\n",
              "    <tr>\n",
              "      <th>Kory</th>\n",
              "      <td>0.941176</td>\n",
              "      <td>0.897436</td>\n",
              "      <td>1</td>\n",
              "    </tr>\n",
              "    <tr>\n",
              "      <th>Gautam</th>\n",
              "      <td>0.764706</td>\n",
              "      <td>0.940171</td>\n",
              "      <td>1</td>\n",
              "    </tr>\n",
              "    <tr>\n",
              "      <th>David</th>\n",
              "      <td>0.882353</td>\n",
              "      <td>0.982906</td>\n",
              "      <td>1</td>\n",
              "    </tr>\n",
              "    <tr>\n",
              "      <th>Andrea</th>\n",
              "      <td>0.705882</td>\n",
              "      <td>1.000000</td>\n",
              "      <td>1</td>\n",
              "    </tr>\n",
              "    <tr>\n",
              "      <th>Brad</th>\n",
              "      <td>0.588235</td>\n",
              "      <td>0.948718</td>\n",
              "      <td>1</td>\n",
              "    </tr>\n",
              "    <tr>\n",
              "      <th>Angelina</th>\n",
              "      <td>0.529412</td>\n",
              "      <td>0.726496</td>\n",
              "      <td>1</td>\n",
              "    </tr>\n",
              "    <tr>\n",
              "      <th>Donald</th>\n",
              "      <td>0.647059</td>\n",
              "      <td>0.786325</td>\n",
              "      <td>1</td>\n",
              "    </tr>\n",
              "    <tr>\n",
              "      <th>Tom</th>\n",
              "      <td>0.000000</td>\n",
              "      <td>0.000000</td>\n",
              "      <td>0</td>\n",
              "    </tr>\n",
              "    <tr>\n",
              "      <th>Arnold</th>\n",
              "      <td>0.058824</td>\n",
              "      <td>0.025641</td>\n",
              "      <td>0</td>\n",
              "    </tr>\n",
              "    <tr>\n",
              "      <th>Jared</th>\n",
              "      <td>0.117647</td>\n",
              "      <td>0.051282</td>\n",
              "      <td>0</td>\n",
              "    </tr>\n",
              "    <tr>\n",
              "      <th>Stark</th>\n",
              "      <td>0.176471</td>\n",
              "      <td>0.038462</td>\n",
              "      <td>0</td>\n",
              "    </tr>\n",
              "    <tr>\n",
              "      <th>Ranbir</th>\n",
              "      <td>0.352941</td>\n",
              "      <td>0.068376</td>\n",
              "      <td>0</td>\n",
              "    </tr>\n",
              "    <tr>\n",
              "      <th>Dipika</th>\n",
              "      <td>0.823529</td>\n",
              "      <td>0.170940</td>\n",
              "      <td>2</td>\n",
              "    </tr>\n",
              "    <tr>\n",
              "      <th>Priyanka</th>\n",
              "      <td>0.882353</td>\n",
              "      <td>0.153846</td>\n",
              "      <td>2</td>\n",
              "    </tr>\n",
              "    <tr>\n",
              "      <th>Nick</th>\n",
              "      <td>1.000000</td>\n",
              "      <td>0.162393</td>\n",
              "      <td>2</td>\n",
              "    </tr>\n",
              "    <tr>\n",
              "      <th>Alia</th>\n",
              "      <td>0.764706</td>\n",
              "      <td>0.299145</td>\n",
              "      <td>2</td>\n",
              "    </tr>\n",
              "    <tr>\n",
              "      <th>Sid</th>\n",
              "      <td>0.882353</td>\n",
              "      <td>0.316239</td>\n",
              "      <td>2</td>\n",
              "    </tr>\n",
              "    <tr>\n",
              "      <th>Abdul</th>\n",
              "      <td>0.764706</td>\n",
              "      <td>0.111111</td>\n",
              "      <td>2</td>\n",
              "    </tr>\n",
              "  </tbody>\n",
              "</table>\n",
              "</div>"
            ],
            "text/plain": [
              "               Age  Income($)  cluster\n",
              "Name                                  \n",
              "Rob       0.058824   0.213675        0\n",
              "Michael   0.176471   0.384615        0\n",
              "Mohan     0.176471   0.136752        0\n",
              "Ismail    0.117647   0.128205        0\n",
              "Kory      0.941176   0.897436        1\n",
              "Gautam    0.764706   0.940171        1\n",
              "David     0.882353   0.982906        1\n",
              "Andrea    0.705882   1.000000        1\n",
              "Brad      0.588235   0.948718        1\n",
              "Angelina  0.529412   0.726496        1\n",
              "Donald    0.647059   0.786325        1\n",
              "Tom       0.000000   0.000000        0\n",
              "Arnold    0.058824   0.025641        0\n",
              "Jared     0.117647   0.051282        0\n",
              "Stark     0.176471   0.038462        0\n",
              "Ranbir    0.352941   0.068376        0\n",
              "Dipika    0.823529   0.170940        2\n",
              "Priyanka  0.882353   0.153846        2\n",
              "Nick      1.000000   0.162393        2\n",
              "Alia      0.764706   0.299145        2\n",
              "Sid       0.882353   0.316239        2\n",
              "Abdul     0.764706   0.111111        2"
            ]
          },
          "metadata": {
            "tags": []
          },
          "execution_count": 14
        }
      ]
    },
    {
      "cell_type": "code",
      "metadata": {
        "colab": {
          "base_uri": "https://localhost:8080/"
        },
        "id": "NTAmg918wOQ_",
        "outputId": "9f9229fc-9a65-4550-f45a-50838fb0d614"
      },
      "source": [
        "km.cluster_centers_"
      ],
      "execution_count": 15,
      "outputs": [
        {
          "output_type": "execute_result",
          "data": {
            "text/plain": [
              "array([[0.1372549 , 0.11633428],\n",
              "       [0.72268908, 0.8974359 ],\n",
              "       [0.85294118, 0.2022792 ]])"
            ]
          },
          "metadata": {
            "tags": []
          },
          "execution_count": 15
        }
      ]
    },
    {
      "cell_type": "code",
      "metadata": {
        "colab": {
          "base_uri": "https://localhost:8080/",
          "height": 296
        },
        "id": "LdXCfhYD71G1",
        "outputId": "b92399c3-5666-4ed1-e134-6e0fcdebdefc"
      },
      "source": [
        "df1 = df[df.cluster==0]\n",
        "df2 = df[df.cluster==1]\n",
        "df3 = df[df.cluster==2]\n",
        "\n",
        "plt.scatter(df1.Age,df1['Income($)'], color ='green', label=\"Income\")\n",
        "plt.scatter(df2.Age,df2['Income($)'], color = 'red')\n",
        "plt.scatter(df3.Age,df3['Income($)'], color='black')\n",
        "plt.scatter(km.cluster_centers_[:,0],km.cluster_centers_[:,1],color='purple',marker='*',label='centroid')#  added this After\n",
        "\n",
        "plt.xlabel('Age')\n",
        "plt.ylabel('Income ($)')\n",
        "plt.legend()"
      ],
      "execution_count": 16,
      "outputs": [
        {
          "output_type": "execute_result",
          "data": {
            "text/plain": [
              "<matplotlib.legend.Legend at 0x7f976fcb22d0>"
            ]
          },
          "metadata": {
            "tags": []
          },
          "execution_count": 16
        },
        {
          "output_type": "display_data",
          "data": {
            "image/png": "[encoded data removed]",
            "text/plain": [
              "<Figure size 432x288 with 1 Axes>"
            ]
          },
          "metadata": {
            "tags": [],
            "needs_background": "light"
          }
        }
      ]
    },
    {
      "cell_type": "code",
      "metadata": {
        "colab": {
          "base_uri": "https://localhost:8080/"
        },
        "id": "Df3xFwj58aAW",
        "outputId": "e3aec7a1-a7b9-4fea-d38e-7fe4be47c945"
      },
      "source": [
        "\n",
        "km.cluster_centers_"
      ],
      "execution_count": 17,
      "outputs": [
        {
          "output_type": "execute_result",
          "data": {
            "text/plain": [
              "array([[0.1372549 , 0.11633428],\n",
              "       [0.72268908, 0.8974359 ],\n",
              "       [0.85294118, 0.2022792 ]])"
            ]
          },
          "metadata": {
            "tags": []
          },
          "execution_count": 17
        }
      ]
    },
    {
      "cell_type": "code",
      "metadata": {
        "id": "4c1Y32kh-BQw"
      },
      "source": [
        "k_rng = range(1,10)\n",
        "sse = []\n",
        "for k in k_rng:\n",
        "  km = KMeans(n_clusters=k)\n",
        "  km.fit(df[['Age','Income($)']])\n",
        "  sse.append(km.inertia_) #gives the sum of square errors and that error we want to just append it to our array"
      ],
      "execution_count": 18,
      "outputs": []
    },
    {
      "cell_type": "code",
      "metadata": {
        "colab": {
          "base_uri": "https://localhost:8080/"
        },
        "id": "BX7KLgFsxCgE",
        "outputId": "71a7c5af-e0e3-4494-8691-cb82dae11f85"
      },
      "source": [
        "sse"
      ],
      "execution_count": 19,
      "outputs": [
        {
          "output_type": "execute_result",
          "data": {
            "text/plain": [
              "[5.43401151198818,\n",
              " 2.091136388699078,\n",
              " 0.4750783498553096,\n",
              " 0.3491047094419565,\n",
              " 0.2621792762345213,\n",
              " 0.21066678488010523,\n",
              " 0.17681044133887713,\n",
              " 0.13265419827245162,\n",
              " 0.10907864282306066]"
            ]
          },
          "metadata": {
            "tags": []
          },
          "execution_count": 19
        }
      ]
    },
    {
      "cell_type": "code",
      "metadata": {
        "colab": {
          "base_uri": "https://localhost:8080/",
          "height": 296
        },
        "id": "bVrqZTgn2tWT",
        "outputId": "12deb903-88d5-4836-8a9c-345b3e9464af"
      },
      "source": [
        "plt.xlabel('K')\n",
        "plt.ylabel('Sum of squared error')\n",
        "plt.plot(k_rng,sse)"
      ],
      "execution_count": 20,
      "outputs": [
        {
          "output_type": "execute_result",
          "data": {
            "text/plain": [
              "[<matplotlib.lines.Line2D at 0x7f9767430f10>]"
            ]
          },
          "metadata": {
            "tags": []
          },
          "execution_count": 20
        },
        {
          "output_type": "display_data",
          "data": {
            "image/png": "[encoded data removed]",
            "text/plain": [
              "<Figure size 432x288 with 1 Axes>"
            ]
          },
          "metadata": {
            "tags": [],
            "needs_background": "light"
          }
        }
      ]
    },
    {
      "cell_type": "code",
      "metadata": {
        "id": "eEITmq3y3Fuz"
      },
      "source": [
        ""
      ],
      "execution_count": 20,
      "outputs": []
    },
    {
      "cell_type": "markdown",
      "metadata": {
        "id": "kkgYNdXIg085"
      },
      "source": [
        "![K Means Cluster Inertia for SSE.png](data:image/png;base64,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)"
      ]
    },
    {
      "cell_type": "code",
      "metadata": {
        "colab": {
          "base_uri": "https://localhost:8080/"
        },
        "id": "z5BesGKX1odX",
        "outputId": "7ea198ff-e79a-4fcc-ad52-8b478f1be808"
      },
      "source": [
        "list(range(5,10))"
      ],
      "execution_count": 25,
      "outputs": [
        {
          "output_type": "execute_result",
          "data": {
            "text/plain": [
              "[5, 6, 7, 8, 9]"
            ]
          },
          "metadata": {
            "tags": []
          },
          "execution_count": 25
        }
      ]
    },
    {
      "cell_type": "code",
      "metadata": {
        "id": "fUgr_UMp1qZl"
      },
      "source": [
        ""
      ],
      "execution_count": 20,
      "outputs": []
    }
  ]
}