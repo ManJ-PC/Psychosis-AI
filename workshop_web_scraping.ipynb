{
  "nbformat": 4,
  "nbformat_minor": 5,
  "metadata": {
    "celltoolbar": "Slideshow",
    "kernelspec": {
      "display_name": "Python 3",
      "language": "python",
      "name": "python3"
    },
    "language_info": {
      "codemirror_mode": {
        "name": "ipython",
        "version": 3
      },
      "file_extension": ".py",
      "mimetype": "text/x-python",
      "name": "python",
      "nbconvert_exporter": "python",
      "pygments_lexer": "ipython3",
      "version": "3.9.5"
    },
    "colab": {
      "name": "workshop_web_scraping.ipynb",
      "provenance": [],
      "include_colab_link": true
    }
  },
  "cells": [
    {
      "cell_type": "markdown",
      "metadata": {
        "id": "view-in-github",
        "colab_type": "text"
      },
      "source": [
        "<a href=\"https://colab.research.google.com/github/ManJ-PC/Psychosis-AI/blob/master/workshop_web_scraping.ipynb\" target=\"_parent\"><img src=\"https://colab.research.google.com/assets/colab-badge.svg\" alt=\"Open In Colab\"/></a>"
      ]
    },
    {
      "cell_type": "markdown",
      "metadata": {
        "id": "94600f0f"
      },
      "source": [
        "<h1>web scraping <small>(em python)</small></h1>\n",
        "<p>um caso de estudo no Sigarra</p>\n",
        "\n",
        "_27/05/2021_"
      ],
      "id": "94600f0f"
    },
    {
      "cell_type": "markdown",
      "metadata": {
        "id": "bc7e9e2a"
      },
      "source": [
        "<h3 style=\"font-weight: 300;\">\n",
        "    tarefa de extrair informação de websites através do protocolo HTTP\n",
        "</h3>"
      ],
      "id": "bc7e9e2a"
    },
    {
      "cell_type": "markdown",
      "metadata": {
        "id": "a4da2569"
      },
      "source": [
        "<h3 style=\"font-weight: 300;\">\n",
        "    pode ser manual, mas normalmente refere-se à extração automatizada através de <i>bots/crawlers</i>\n",
        "</h3>"
      ],
      "id": "a4da2569"
    },
    {
      "cell_type": "markdown",
      "metadata": {
        "id": "c040b099"
      },
      "source": [
        "## quando usar?"
      ],
      "id": "c040b099"
    },
    {
      "cell_type": "markdown",
      "metadata": {
        "id": "e8a153f1"
      },
      "source": [
        "1. recolha de dados\n",
        "    1. não há uma web API\n",
        "    1. há uma web API com rate limits\n",
        "1. monitorizar o estado de um website ou processo\n",
        "1. automatizar ações humanas\n",
        "1. mapear as páginas de um website (sitemap)\n",
        "1. testar interfaces"
      ],
      "id": "e8a153f1"
    },
    {
      "cell_type": "markdown",
      "metadata": {
        "id": "26a3b42f"
      },
      "source": [
        "## conhecimentos necessários\n",
        "1. HTML\n",
        "1. seletores [CSS](https://www.w3schools.com/cssref/css_selectors.asp)"
      ],
      "id": "26a3b42f"
    },
    {
      "cell_type": "markdown",
      "metadata": {
        "id": "22673f77"
      },
      "source": [
        "## conhecimentos úteis\n",
        "1. seletores [XPATH](https://www.w3schools.com/xml/xpath_syntax.asp)\n",
        "1. browser developer tools\n",
        "1. protocolo HTTP (`GET` vs `POST`, headers, cookies, HTTP errors)\n",
        "1. JavaScript\n",
        "1. Regular Expressions"
      ],
      "id": "22673f77"
    },
    {
      "cell_type": "markdown",
      "metadata": {
        "id": "d110dac2"
      },
      "source": [
        "## pitão e mais o quê?\n",
        "* [requests](https://pypi.org/project/requests/) - cliente HTTP | [docs](https://docs.python-requests.org/en/master/)\n",
        "    * ou [urllib3](https://pypi.org/project/urllib3/) - outro cliente HTTP | [docs](https://urllib3.readthedocs.io/en/latest/)\n",
        "* [beautifulsoup4](https://pypi.org/project/beautifulsoup4/) - HTML/XML parsing utilities | [docs](https://www.crummy.com/software/BeautifulSoup/bs4/doc/)\n",
        "    * ou [lxml](https://pypi.org/project/lxml/) - outra biblioteca para HTML/XML parsing utilities | [docs](https://lxml.de/)\n",
        "* [scrapy](https://pypi.org/project/Scrapy/) - web crawling framework | [docs](https://docs.scrapy.org/en/latest/)\n",
        "* [selenium](https://pypi.org/project/selenium/) - automatizar interações com browsers | [docs](https://www.selenium.dev/documentation/en/)\n",
        "* [selenium driver](https://selenium-python.readthedocs.io/installation.html#drivers) específico para o browser ([chrome](https://sites.google.com/a/chromium.org/chromedriver/downloads), [firefox](https://github.com/mozilla/geckodriver/releases), ...)\n",
        "    * [ghostdriver](https://github.com/detro/ghostdriver) parecido com selenium mas especialmente feito para [PhantomJs](https://phantomjs.org/)"
      ],
      "id": "d110dac2"
    },
    {
      "cell_type": "code",
      "metadata": {
        "id": "92fe8021"
      },
      "source": [
        "!pip3 install urllib3 requests beautifulsoup4 Scrapy selenium > /dev/null"
      ],
      "id": "92fe8021",
      "execution_count": null,
      "outputs": []
    },
    {
      "cell_type": "markdown",
      "metadata": {
        "id": "647566cf"
      },
      "source": [
        "## `requests`\n",
        "#### Cliente HTTP\n",
        "\n",
        "[`pip install requests`](https://pypi.org/project/requests/) | [docs](https://docs.python-requests.org/en/master/)"
      ],
      "id": "647566cf"
    },
    {
      "cell_type": "code",
      "metadata": {
        "id": "0a30adb3"
      },
      "source": [
        "!pip3 install requests > /dev/null"
      ],
      "id": "0a30adb3",
      "execution_count": null,
      "outputs": []
    },
    {
      "cell_type": "code",
      "metadata": {
        "id": "2a153b1e"
      },
      "source": [
        "import requests"
      ],
      "id": "2a153b1e",
      "execution_count": null,
      "outputs": []
    },
    {
      "cell_type": "code",
      "metadata": {
        "id": "ce1276cb"
      },
      "source": [
        "feup = requests.get(\"https://sigarra.up.pt/feup/pt\")\n",
        "print(feup.text)"
      ],
      "id": "ce1276cb",
      "execution_count": null,
      "outputs": []
    },
    {
      "cell_type": "markdown",
      "metadata": {
        "id": "bec8a899"
      },
      "source": [
        "`requests` - propriedades das respostas "
      ],
      "id": "bec8a899"
    },
    {
      "cell_type": "code",
      "metadata": {
        "id": "b88556dc"
      },
      "source": [
        "# feup - compiladores\n",
        "comp = \"https://sigarra.up.pt/feup/pt/ucurr_geral.ficha_uc_view?pv_ocorrencia_id=272732\"\n",
        "# github api\n",
        "github = \"https://api.github.com/user\""
      ],
      "id": "b88556dc",
      "execution_count": null,
      "outputs": []
    },
    {
      "cell_type": "code",
      "metadata": {
        "scrolled": true,
        "id": "e0933fed"
      },
      "source": [
        "for site in [comp, github]:\n",
        "    r = requests.get(site)\n",
        "    print(site)\n",
        "    print(\"* HTTP status     = %s\" % r.status_code)\n",
        "    print(\"* HTTP CT headers = %s\" % r.headers['content-type'])\n",
        "    print(\"* encoding        = %s\" % r.encoding)\n",
        "    print(\"* text            = %s\" % r.text[0:100])\n",
        "    print(\"---\\n\")"
      ],
      "id": "e0933fed",
      "execution_count": null,
      "outputs": []
    },
    {
      "cell_type": "markdown",
      "metadata": {
        "id": "e948cce1"
      },
      "source": [
        "`requests` - passagem de parâmetros"
      ],
      "id": "e948cce1"
    },
    {
      "cell_type": "code",
      "metadata": {
        "id": "6dffd508"
      },
      "source": [
        "payload = {'pv_ocorrencia_id': 272732} # 272832\n",
        "r = requests.get(\"https://sigarra.up.pt/feup/pt/ucurr_geral.ficha_uc_view\", params=payload)\n",
        "print(r.url)\n",
        "print(r.text[3300:3360])"
      ],
      "id": "6dffd508",
      "execution_count": null,
      "outputs": []
    },
    {
      "cell_type": "markdown",
      "metadata": {
        "id": "04b7dc63"
      },
      "source": [
        "## `urllib`\n",
        "#### Cliente HTTP\n",
        "\n",
        "[`pip install urllib3`](https://pypi.org/project/urllib3/) | [docs](https://urllib3.readthedocs.io/en/latest/)"
      ],
      "id": "04b7dc63"
    },
    {
      "cell_type": "code",
      "metadata": {
        "id": "4e74cf77"
      },
      "source": [
        "!pip3 install urllib3 > /dev/null"
      ],
      "id": "4e74cf77",
      "execution_count": null,
      "outputs": []
    },
    {
      "cell_type": "code",
      "metadata": {
        "id": "e818834d"
      },
      "source": [
        "from urllib.request import urlopen"
      ],
      "id": "e818834d",
      "execution_count": null,
      "outputs": []
    },
    {
      "cell_type": "code",
      "metadata": {
        "id": "adc281c2"
      },
      "source": [
        "# feup - compiladores\n",
        "comp = \"https://sigarra.up.pt/feup/pt/ucurr_geral.ficha_uc_view?pv_ocorrencia_id=272732\""
      ],
      "id": "adc281c2",
      "execution_count": null,
      "outputs": []
    },
    {
      "cell_type": "code",
      "metadata": {
        "id": "6c0c6137"
      },
      "source": [
        "r = urlopen(comp)\n",
        "print(\"HTTP status code = %s\" % r.status)\n",
        "html = r.read()\n",
        "print(html[3300:3360])"
      ],
      "id": "6c0c6137",
      "execution_count": null,
      "outputs": []
    },
    {
      "cell_type": "markdown",
      "metadata": {
        "id": "ff7a6fd2"
      },
      "source": [
        "## `beautifulsoup4`\n",
        "#### HTML/XML parsing utilities\n",
        "\n",
        "[`pip install beautifulsoup4`](https://pypi.org/project/beautifulsoup4/) | [docs](https://www.crummy.com/software/BeautifulSoup/bs4/doc/)"
      ],
      "id": "ff7a6fd2"
    },
    {
      "cell_type": "code",
      "metadata": {
        "id": "c96eda85"
      },
      "source": [
        "!pip3 install beautifulsoup4 > /dev/null"
      ],
      "id": "c96eda85",
      "execution_count": null,
      "outputs": []
    },
    {
      "cell_type": "code",
      "metadata": {
        "id": "a46a4261"
      },
      "source": [
        "from bs4 import BeautifulSoup"
      ],
      "id": "a46a4261",
      "execution_count": null,
      "outputs": []
    },
    {
      "cell_type": "code",
      "metadata": {
        "id": "664f4fb9"
      },
      "source": [
        "soup = BeautifulSoup(\"<p>Some<b>bad<i>HTML\")\n",
        "print(soup.prettify())"
      ],
      "id": "664f4fb9",
      "execution_count": null,
      "outputs": []
    },
    {
      "cell_type": "code",
      "metadata": {
        "id": "cc3ae8f4"
      },
      "source": [
        "r = requests.get(\"https://sigarra.up.pt/feup/pt/ucurr_geral.ficha_uc_view\", params={'pv_ocorrencia_id': 272732})\n",
        "print(r.status_code, r.url)"
      ],
      "id": "cc3ae8f4",
      "execution_count": null,
      "outputs": []
    },
    {
      "cell_type": "code",
      "metadata": {
        "scrolled": true,
        "id": "190c7c48"
      },
      "source": [
        "soup = BeautifulSoup(r.text)"
      ],
      "id": "190c7c48",
      "execution_count": null,
      "outputs": []
    },
    {
      "cell_type": "code",
      "metadata": {
        "id": "210472b7"
      },
      "source": [
        "print(soup.prettify()[0:100])"
      ],
      "id": "210472b7",
      "execution_count": null,
      "outputs": []
    },
    {
      "cell_type": "markdown",
      "metadata": {
        "id": "bea67b44"
      },
      "source": [
        "#### navegar pelo HTML - acesso por atributos\n",
        "retorna sempre a primeira ocorrência"
      ],
      "id": "bea67b44"
    },
    {
      "cell_type": "code",
      "metadata": {
        "id": "9b017c0a"
      },
      "source": [
        "soup.title"
      ],
      "id": "9b017c0a",
      "execution_count": null,
      "outputs": []
    },
    {
      "cell_type": "code",
      "metadata": {
        "id": "ea2544f8"
      },
      "source": [
        "print(soup.title.name, \":\", soup.title.string)"
      ],
      "id": "ea2544f8",
      "execution_count": null,
      "outputs": []
    },
    {
      "cell_type": "code",
      "metadata": {
        "id": "1493e689"
      },
      "source": [
        "# soup.p.a.next_sibling.attrs[\"href\"] #.get(\"href\")\n",
        "# print(soup.p)\n",
        "print(soup.p.prettify())"
      ],
      "id": "1493e689",
      "execution_count": null,
      "outputs": []
    },
    {
      "cell_type": "markdown",
      "metadata": {
        "id": "46df9bc6"
      },
      "source": [
        "como extrair código e sigla?\n",
        "\n",
        "```html\n",
        "<table class=\"formulario\">\n",
        "    <tr>\n",
        "        <td class=\"formulario-legenda\">Código:</td>\n",
        "        <td>EIC0028</td>\n",
        "        <td>&nbsp;&nbsp;&nbsp;</td>\n",
        "        <td class=\"formulario-legenda\">Sigla:</td>\n",
        "        <td>COMP</td>\n",
        "    </tr>\n",
        "</table>\n",
        "```"
      ],
      "id": "46df9bc6"
    },
    {
      "cell_type": "code",
      "metadata": {
        "id": "73763a2f"
      },
      "source": [
        "soup.table.td#.next_sibling#.next_sibling"
      ],
      "id": "73763a2f",
      "execution_count": null,
      "outputs": []
    },
    {
      "cell_type": "code",
      "metadata": {
        "id": "e508e6bd"
      },
      "source": [
        "soup.select_one(\"table.formulario td:nth-child(2)\")#.string"
      ],
      "id": "e508e6bd",
      "execution_count": null,
      "outputs": []
    },
    {
      "cell_type": "code",
      "metadata": {
        "id": "52c80b38"
      },
      "source": [
        "soup.select_one(\"table.formulario td:not(.formulario-legenda)\").text"
      ],
      "id": "52c80b38",
      "execution_count": null,
      "outputs": []
    },
    {
      "cell_type": "markdown",
      "metadata": {
        "id": "dc065b5e"
      },
      "source": [
        "`string` vs `text` vs `stripped_strings`\n",
        "\n",
        "\n",
        "```html\n",
        "<table class=\"formulario\">\n",
        "    <tr>\n",
        "        <td class=\"formulario-legenda\">Código:</td>\n",
        "        <td>EIC0028</td>\n",
        "        <td>&nbsp;&nbsp;&nbsp;</td>\n",
        "        <td class=\"formulario-legenda\">Sigla:</td>\n",
        "        <td>COMP</td>\n",
        "    </tr>\n",
        "</table>\n",
        "```"
      ],
      "id": "dc065b5e"
    },
    {
      "cell_type": "code",
      "metadata": {
        "id": "836fddbe"
      },
      "source": [
        "print(\"*** table.string      : '%s'\" % soup.table.string)\n",
        "print(\"*** table.text        : '%s'\" % soup.table.text)\n",
        "print(\"*** td.string         : '%s'\" % soup.table.td.string)\n",
        "print(\"*** td.text           : '%s'\" % soup.table.td.text)\n",
        "print(\"*** td.get_text       : '%s'\" % soup.table.td.get_text(strip=True))\n",
        "print(\"*** table.get_text    : '%s'\" % soup.table.get_text(\"|\", strip=True))\n",
        "print(\"*** stripped_strings  : '%s'\" % list(soup.table.stripped_strings))"
      ],
      "id": "836fddbe",
      "execution_count": null,
      "outputs": []
    },
    {
      "cell_type": "markdown",
      "metadata": {
        "id": "31b236ea"
      },
      "source": [
        "### `select` (css) vs `find_all` (object search)"
      ],
      "id": "31b236ea"
    },
    {
      "cell_type": "code",
      "metadata": {
        "id": "780d0099"
      },
      "source": [
        "r = requests.get(\"https://sigarra.up.pt/feup/pt/ucurr_geral.ficha_uc_view\", params={'pv_ocorrencia_id': 272732})\n",
        "soup = BeautifulSoup(r.text)"
      ],
      "id": "780d0099",
      "execution_count": null,
      "outputs": []
    },
    {
      "cell_type": "code",
      "metadata": {
        "id": "befc4ba0"
      },
      "source": [
        "len(soup.select(\"table\")), len(soup.find_all(\"table\"))"
      ],
      "id": "befc4ba0",
      "execution_count": null,
      "outputs": []
    },
    {
      "cell_type": "code",
      "metadata": {
        "id": "e7fc8174"
      },
      "source": [
        "len(soup.select(\"table.formulario\")), len(soup.find_all(\"table.formulario\"))"
      ],
      "id": "e7fc8174",
      "execution_count": null,
      "outputs": []
    },
    {
      "cell_type": "code",
      "metadata": {
        "id": "fbcdc122"
      },
      "source": [
        "len(soup.select(\"table.formulario\")), len(soup.find_all(\"table\", attrs={\"class\": \"formulario\"}))"
      ],
      "id": "fbcdc122",
      "execution_count": null,
      "outputs": []
    },
    {
      "cell_type": "code",
      "metadata": {
        "id": "f06647d5"
      },
      "source": [
        "import re # regular expressions\n",
        "len(soup.find_all(re.compile(\"^tab.e$\")))"
      ],
      "id": "f06647d5",
      "execution_count": null,
      "outputs": []
    },
    {
      "cell_type": "code",
      "metadata": {
        "id": "677f457b"
      },
      "source": [
        "def has_class_and_id(tag): \n",
        "    return tag.has_attr('class') and tag.has_attr('id')\n",
        "soup.find_all(has_class_and_id)#[0].a.get(\"href\")"
      ],
      "id": "677f457b",
      "execution_count": null,
      "outputs": []
    },
    {
      "cell_type": "markdown",
      "metadata": {
        "id": "b6bcd158"
      },
      "source": [
        "Extrair todos os `href` disponíveis a partir dos `<a href=\"...\">links</a>`"
      ],
      "id": "b6bcd158"
    },
    {
      "cell_type": "code",
      "metadata": {
        "id": "00d9d47a"
      },
      "source": [
        "hrefs = [a.get('href') for a in soup.find_all(\"a\") if a.get('href')] # ou a.attrs[\"href\"]\n",
        "print(len(hrefs), hrefs[0]) "
      ],
      "id": "00d9d47a",
      "execution_count": null,
      "outputs": []
    },
    {
      "cell_type": "code",
      "metadata": {
        "id": "d13b9298"
      },
      "source": [
        "import urllib.parse\n",
        "base = \"https://sigarra.up.pt/feup/pt/ucurr_geral.ficha_uc_view\""
      ],
      "id": "d13b9298",
      "execution_count": null,
      "outputs": []
    },
    {
      "cell_type": "code",
      "metadata": {
        "id": "83166053"
      },
      "source": [
        "hrefs = [urllib.parse.urljoin(base, h) for h in hrefs]\n",
        "print(len(hrefs), hrefs[0])"
      ],
      "id": "83166053",
      "execution_count": null,
      "outputs": []
    },
    {
      "cell_type": "code",
      "metadata": {
        "id": "b7e4db3d"
      },
      "source": [
        "for h in hrefs[1:9]:\n",
        "    print(h, end=\"\")\n",
        "    r = requests.get(h)\n",
        "    if r.status_code == 200: print(\" \", BeautifulSoup(r.text).title.text)\n",
        "    else:                    print(\" \", r)"
      ],
      "id": "b7e4db3d",
      "execution_count": null,
      "outputs": []
    },
    {
      "cell_type": "markdown",
      "metadata": {
        "id": "5fc822df"
      },
      "source": [
        "Dada a página de um professor, como descobrir outros? \n",
        "\n",
        "paiva cardoso: https://sigarra.up.pt/feup/pt/func_geral.formview?p_codigo=449856\n",
        "\n",
        "Como investigar o que é o `p_codigo`? "
      ],
      "id": "5fc822df"
    },
    {
      "cell_type": "code",
      "metadata": {
        "scrolled": true,
        "id": "46d5dc80"
      },
      "source": [
        "for i in range(449856, 449868):\n",
        "    r = requests.get(\"https://sigarra.up.pt/feup/pt/func_geral.formview\", params={'p_codigo': i})\n",
        "    soup = BeautifulSoup(r.text)\n",
        "    print(i, soup.title.text)"
      ],
      "id": "46d5dc80",
      "execution_count": null,
      "outputs": []
    },
    {
      "cell_type": "code",
      "metadata": {
        "id": "876fb165"
      },
      "source": [
        "for i in range(500045, 500065):\n",
        "    r = requests.get(\"https://sigarra.up.pt/feup/pt/func_geral.formview\", params={'p_codigo': i})\n",
        "    soup = BeautifulSoup(r.text)\n",
        "    if soup.title.get_text(strip=True) != \"FEUP - Registo não encontrado\":\n",
        "        print(i, soup.title.text)"
      ],
      "id": "876fb165",
      "execution_count": null,
      "outputs": []
    },
    {
      "cell_type": "markdown",
      "metadata": {
        "id": "0c793e28"
      },
      "source": [
        "## `Scrapy`\n",
        "#### web crawling framework\n",
        "\n",
        "tem métodos de pesquisa diferentes de Beautiful Soup mas fáceis de perceber: \n",
        "\n",
        "`tag.css()` e `tag.xpath()`\n",
        "\n",
        "[`pip install Scrapy`](https://pypi.org/project/Scrapy/) | [docs](https://docs.scrapy.org/en/latest/)"
      ],
      "id": "0c793e28"
    },
    {
      "cell_type": "code",
      "metadata": {
        "id": "2b395647"
      },
      "source": [
        "!pip3 install Scrapy > /dev/null"
      ],
      "id": "2b395647",
      "execution_count": null,
      "outputs": []
    },
    {
      "cell_type": "code",
      "metadata": {
        "id": "a02a3318"
      },
      "source": [
        "!scrapy startproject sigarraSpider > /dev/null"
      ],
      "id": "a02a3318",
      "execution_count": null,
      "outputs": []
    },
    {
      "cell_type": "markdown",
      "metadata": {
        "id": "b2fc9171"
      },
      "source": [
        "<img style=\"height:350px;float:right\" src=\"https://user-images.githubusercontent.com/70276378/119811145-0e34db80-bee7-11eb-9d11-83145645df50.png\"></img>\n",
        "\n",
        "* `scrapy.cfg` and `settings.py` - configurations see [full list](https://docs.scrapy.org/en/latest/topics/settings.html#topics-settings-ref)\n",
        "* `items.py` - our custom object Models\n",
        "* `spiders/` - our crawling rules - return dict or Model\n",
        "* `pipelines.py` - how to post-process collected data\n",
        "* `middlewares.py` - customize how Scrapy fetches pages"
      ],
      "id": "b2fc9171"
    },
    {
      "cell_type": "markdown",
      "metadata": {
        "id": "dc109c5a"
      },
      "source": [
        "You can start your first spider with:\n",
        "* `cd sigarraSpider`\n",
        "* `scrapy genspider example example.com`\n",
        "\n",
        "vamos usar para [esta página](https://sigarra.up.pt/feup/pt/func_geral.querylist?p_estado=ACT&p_amo_id=&p_unidade=151)"
      ],
      "id": "dc109c5a"
    },
    {
      "cell_type": "code",
      "metadata": {
        "id": "e5c1deee"
      },
      "source": [
        "! cd sigarraSpider && scrapy genspider prof \\\n",
        "    \"https://sigarra.up.pt/feup/pt/func_geral.querylist?p_estado=ACT&p_amo_id=&p_unidade=151\""
      ],
      "id": "e5c1deee",
      "execution_count": null,
      "outputs": []
    },
    {
      "cell_type": "markdown",
      "metadata": {
        "id": "8ee4de53"
      },
      "source": [
        "prof scraper auto-gerado\n",
        "\n",
        "<img style=\"NOTwidth:500px;\" src=\"https://user-images.githubusercontent.com/70276378/119811107-037a4680-bee7-11eb-850d-c63196a5a549.png\"/>"
      ],
      "id": "8ee4de53"
    },
    {
      "cell_type": "markdown",
      "metadata": {
        "id": "4118c3cd"
      },
      "source": [
        "```python\n",
        "import scrapy\n",
        "\n",
        "class ProfSpider(scrapy.Spider):\n",
        "    name = 'prof'\n",
        "    # remover ou generalizar allowed_domains\n",
        "    allowed_domains = ['url']\n",
        "    start_urls = ['url']\n",
        "\n",
        "    def parse(self, response):\n",
        "        pass # add the magic here\n",
        "\n",
        "```\n",
        "\n",
        "<small>\n",
        "url -> <code>https://sigarra.up.pt/feup/pt/func_geral.querylist?p_estado=ACT&p_amo_id=&p_unidade=151</code>\n",
        "</small>\n"
      ],
      "id": "4118c3cd"
    },
    {
      "cell_type": "markdown",
      "metadata": {
        "id": "fc9f181f"
      },
      "source": [
        "prof scraper - recolher nome de cada professor na lista\n",
        "```python\n",
        "class ProfSpider(scrapy.Spider):\n",
        "    name = 'prof'\n",
        "    start_urls = ['https://sigarra.up.pt/feup/pt/func_geral.querylist?p_estado=ACT&p_amo_id=&p_unidade=151']\n",
        "\n",
        "    def parse(self, response):\n",
        "        for prof in response.css('#conteudoinner ul>li'):\n",
        "            yield {'name': prof.css('a ::text').get()}\n",
        "```"
      ],
      "id": "fc9f181f"
    },
    {
      "cell_type": "code",
      "metadata": {
        "id": "7c64331f"
      },
      "source": [
        "!cd sigarraSpider && scrapy crawl prof -o result.json -t json"
      ],
      "id": "7c64331f",
      "execution_count": null,
      "outputs": []
    },
    {
      "cell_type": "markdown",
      "metadata": {
        "id": "eb39dd48"
      },
      "source": [
        "Prof Scraper - para cada professor da lista, ir à respetiva página e recolher mais dados\n",
        "\n",
        "Adicionar o `yield from`\n",
        "```python\n",
        "    def parse(self, response):\n",
        "        for prof in response.css('#conteudoinner ul>li'):\n",
        "            yield {'name': prof.css('a ::text').get()}\n",
        "\n",
        "        yield from response.follow_all(css='#conteudoinner ul>li>a', callback=self.parse_prof)\n",
        "```\n",
        "criar o novo método:\n",
        "```python\n",
        "    def parse_prof(self, response):\n",
        "        email = response.xpath(\"//td[text()='Email Institucional:']//following-sibling::td//text()\").get()\n",
        "        if email: email+=\"@fe.up.pt\"\n",
        "        yield {\n",
        "            'nome': response.xpath(\"//td[text()='Nome:']//following-sibling::td/b/text()\").get(),\n",
        "            'categoria': response.xpath(\"//td[text()='Categoria:']//following-sibling::td/text()\").get(),\n",
        "            'email':  email\n",
        "        }\n",
        "```"
      ],
      "id": "eb39dd48"
    },
    {
      "cell_type": "code",
      "metadata": {
        "id": "2f651279"
      },
      "source": [
        "!cd sigarraSpider && scrapy crawl prof -o result.json -t json"
      ],
      "id": "2f651279",
      "execution_count": null,
      "outputs": []
    },
    {
      "cell_type": "markdown",
      "metadata": {
        "id": "8e031d2b"
      },
      "source": [
        "## `selenium`\n",
        "#### automatizar interações com browsers\n",
        "\n",
        "[`pip install selenium`](https://pypi.org/project/selenium/) | [docs](https://www.selenium.dev/documentation/en/)\n",
        "\n",
        "requer [selenium driver](https://selenium-python.readthedocs.io/installation.html#drivers) específico para o browser ([chrome](https://sites.google.com/a/chromium.org/chromedriver/downloads), [firefox](https://github.com/mozilla/geckodriver/releases), ...)\n",
        "    "
      ],
      "id": "8e031d2b"
    },
    {
      "cell_type": "code",
      "metadata": {
        "id": "7713900b"
      },
      "source": [
        "from selenium import webdriver\n",
        "from selenium.webdriver.common.by import By\n",
        "from selenium.webdriver.common.keys import Keys\n",
        "from selenium.webdriver.support.ui import WebDriverWait\n",
        "from selenium.webdriver.support.expected_conditions import presence_of_element_located"
      ],
      "id": "7713900b",
      "execution_count": null,
      "outputs": []
    },
    {
      "cell_type": "code",
      "metadata": {
        "id": "f8461f1f"
      },
      "source": [
        "driver = webdriver.Chrome(executable_path=\"/PATH_TO_CHROMEDRIVER/chromedriver\")"
      ],
      "id": "f8461f1f",
      "execution_count": null,
      "outputs": []
    },
    {
      "cell_type": "code",
      "metadata": {
        "id": "40db2a2b"
      },
      "source": [
        "# go to a page\n",
        "driver.get(\"https://fe.up.pt\")"
      ],
      "id": "40db2a2b",
      "execution_count": null,
      "outputs": []
    },
    {
      "cell_type": "code",
      "metadata": {
        "id": "3b2dce8b"
      },
      "source": [
        "# depois, procurar o link 'Pessoal' e clicar-lhe\n",
        "driver.find_element_by_xpath(\"//a[@title='Pessoal']\").click()"
      ],
      "id": "3b2dce8b",
      "execution_count": null,
      "outputs": []
    },
    {
      "cell_type": "code",
      "metadata": {
        "id": "ccafa19f"
      },
      "source": [
        "# procurar um elemento no UI\n",
        "search_box = driver.find_element(By.NAME, \"P_NOME\")\n",
        "# search_box = driver.find_element_by_name(\"P_NOME\")\n",
        "# search_box = driver.find_element_by_css_selector(\"input[name='P_NOME']\")\n",
        "# search_box = driver.find_element_by_xpath(\"//input[@name='P_NOME']\")"
      ],
      "id": "ccafa19f",
      "execution_count": null,
      "outputs": []
    },
    {
      "cell_type": "code",
      "metadata": {
        "id": "81a7bbff"
      },
      "source": [
        "search_box.send_keys(\"algo\")"
      ],
      "id": "81a7bbff",
      "execution_count": null,
      "outputs": []
    },
    {
      "cell_type": "code",
      "metadata": {
        "id": "df26f2c1"
      },
      "source": [
        "search_box.clear()\n",
        "search_box.send_keys(\"vidal\")"
      ],
      "id": "df26f2c1",
      "execution_count": null,
      "outputs": []
    },
    {
      "cell_type": "code",
      "metadata": {
        "id": "004cbff9"
      },
      "source": [
        "search_box.send_keys(Keys.RETURN)"
      ],
      "id": "004cbff9",
      "execution_count": null,
      "outputs": []
    },
    {
      "cell_type": "code",
      "metadata": {
        "id": "19a18a53"
      },
      "source": [
        "wait = WebDriverWait(driver, 5)\n",
        "nome = wait.until(presence_of_element_located((By.XPATH,\n",
        "           \"//td[text()='Nome:']//following-sibling::td/b\")))"
      ],
      "id": "19a18a53",
      "execution_count": null,
      "outputs": []
    },
    {
      "cell_type": "code",
      "metadata": {
        "id": "23e3cf67"
      },
      "source": [
        "print(nome.get_attribute(\"textContent\"))"
      ],
      "id": "23e3cf67",
      "execution_count": null,
      "outputs": []
    },
    {
      "cell_type": "code",
      "metadata": {
        "id": "37ec808f"
      },
      "source": [
        "driver.close()"
      ],
      "id": "37ec808f",
      "execution_count": null,
      "outputs": []
    },
    {
      "cell_type": "markdown",
      "metadata": {
        "id": "27a3df71"
      },
      "source": [
        "## usar com cuidado...\n",
        "* se a informação é pública, recolher esses dados não é um problema em si, contudo ir contra os termos de uso, ou mesmo fazendo centenas de pedidos por segundo para chegar a esses dados pode ser considerado uma infração/\"ataque\" contra o site\n",
        "* se a informação for privada, é basicamente pirataria com nunaces à volta do tipo de informação recolhida\n",
        "* é fácil detetar muitos pedidos de um mesmo sítio, é fácil bloquear IPs e banir contas"
      ],
      "id": "27a3df71"
    },
    {
      "cell_type": "markdown",
      "metadata": {
        "id": "e2c703b9"
      },
      "source": [
        "## dicas e conselhos\n",
        "1. escolher seletores com menos dependências (`body>div>table>tbody>tr>td>div>span.name` vs `span.name.person`)\n",
        "1. antever exceções\n",
        "    1. erros HTTP\n",
        "    1. perda de internet\n",
        "    1. HTML inválido (`<div>tags não fechadas`)\n",
        "    1. estrutura HTML inesperada (elementos que só aparecem ocasionalmente)\n",
        "1. evitar pedidos duplicados (perda de tempo e risco)\n",
        "1. por vezes a informação que queremos está em mais do que um sítio de formas diferentes - saber escolher qual usar - às vezes até nos atributos (`<span email=\"john@example.com\">Email: john@example.com<span>` - `span.get(\"email\")` vs `span.get_text()`)\n",
        "1. cuidado com os encodings (idealmente tudo seria `UTF-8`, mas...)\n",
        "1. conteúdo escondido/invísivel no texto que é lixo mas ocupa espaço (`<span>conteúdo útil acaba aqui. \\x09\\x0b\\x0d</span>`)\n",
        "1. adicionar HTTP headers para mascarar comportamento automatizado\n",
        "1. remote servers para correr os nossos scrapers - mais poder de processamento/paralelização - acesso a outros IPs :)"
      ],
      "id": "e2c703b9"
    }
  ]
}